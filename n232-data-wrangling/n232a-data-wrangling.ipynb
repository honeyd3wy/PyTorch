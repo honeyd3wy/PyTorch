{
  "nbformat": 4,
  "nbformat_minor": 0,
  "metadata": {
    "jupytext": {
      "cell_metadata_filter": "-all",
      "main_language": "python",
      "notebook_metadata_filter": "-all"
    },
    "kernelspec": {
      "display_name": "Python 3",
      "language": "python",
      "name": "python3"
    },
    "language_info": {
      "codemirror_mode": {
        "name": "ipython",
        "version": 3
      },
      "file_extension": ".py",
      "mimetype": "text/x-python",
      "name": "python",
      "nbconvert_exporter": "python",
      "pygments_lexer": "ipython3",
      "version": "3.7.7"
    },
    "colab": {
      "name": "n232a-data-wrangling.ipynb의 사본",
      "provenance": [],
      "collapsed_sections": [
        "07UwhSdXar8u",
        "N38xlkGzg_E-",
        "gJB10sfzohw9",
        "uWwpbQ_qnYey",
        "45VbJWb9a3rN"
      ],
      "include_colab_link": true
    }
  },
  "cells": [
    {
      "cell_type": "markdown",
      "metadata": {
        "id": "view-in-github",
        "colab_type": "text"
      },
      "source": [
        "<a href=\"https://colab.research.google.com/github/honeyd3wy/PyTorch/blob/master/n232-data-wrangling/n232a-data-wrangling.ipynb\" target=\"_parent\"><img src=\"https://colab.research.google.com/assets/colab-badge.svg\" alt=\"Open In Colab\"/></a>"
      ]
    },
    {
      "cell_type": "markdown",
      "metadata": {
        "id": "zautIxO69MCS"
      },
      "source": [
        "<img align=\"right\" src=\"https://ds-cs-images.s3.ap-northeast-2.amazonaws.com/Codestates_Fulllogo_Color.png\" width=100>\n",
        "\n",
        "## *DATA SCIENCE / SECTION 2 / SPRINT 3 / NOTE 2*\n",
        "\n",
        "# 📝 Assignment\n",
        "---\n",
        "# Data Wrangling\n"
      ]
    },
    {
      "cell_type": "markdown",
      "metadata": {
        "id": "Pyu4ee919MCY"
      },
      "source": [
        "### 1) 지속적으로 여러분의 포트폴리오 데이터를 랭글링 하세요\n",
        "- 여러분이 선택한 데이터들을 랭글링하여 모델을 만들기 위한 테이블 형태의 데이터로 만들어 보세요.\n",
        "- **다음 함수의 result를 완성시키고 리턴값을 과제 제출폼에 제출하세요.**"
      ]
    },
    {
      "cell_type": "markdown",
      "metadata": {
        "id": "ia6BQVkGapBt"
      },
      "source": [
        "#### 제출 과제"
      ]
    },
    {
      "cell_type": "code",
      "metadata": {
        "id": "htRGv0CJ9MCb",
        "colab": {
          "base_uri": "https://localhost:8080/"
        },
        "outputId": "0c71ca93-6ea7-4486-c86b-83d8e0e12066"
      },
      "source": [
        "### 이곳에서 제출폼 과제를 진행해 주세요 ###\n",
        "import pandas as pd\n",
        "df_a = pd.read_csv(\"https://ds-lecture-data.s3.ap-northeast-2.amazonaws.com/assignments/purchase_data.csv\", sep=\",\",index_col=0)\n",
        "\n",
        "## 다음 result 함수 안에 male, female 변수를 계산하세요.(groupby, get_group을 사용하세요.)\n",
        "## sum_male: Age = 20, Gender = \"Male\" 그룹의 Price를 합하세요.\n",
        "## sum_female: Age = 20, Gender = \"Female\" 그룹의 Price를 합하세요.\n",
        "\n",
        "def result(df):\n",
        "    \n",
        "    sum_male = df.groupby('Age').get_group(20).groupby('Gender').get_group('Male')['Price'].sum()\n",
        "    sum_female = df.groupby('Age').get_group(20).groupby('Gender').get_group('Female')['Price'].sum()\n",
        "\n",
        "    print(\"sum_male: {}, sum_female: {}\".format(sum_male, sum_female))\n",
        "    return round(sum_male + sum_female)\n",
        "\n",
        "result(df_a)"
      ],
      "execution_count": 1,
      "outputs": [
        {
          "output_type": "stream",
          "text": [
            "sum_male: 260.2, sum_female: 43.730000000000004\n"
          ],
          "name": "stdout"
        },
        {
          "output_type": "execute_result",
          "data": {
            "text/plain": [
              "304"
            ]
          },
          "metadata": {},
          "execution_count": 1
        }
      ]
    },
    {
      "cell_type": "markdown",
      "metadata": {
        "id": "07UwhSdXar8u"
      },
      "source": [
        "#### 포트폴리오 데이터 랭글링"
      ]
    },
    {
      "cell_type": "code",
      "metadata": {
        "id": "NLpP8yWqa-nG"
      },
      "source": [
        "# 경고문 무시하기\n",
        "import warnings\n",
        "warnings.filterwarnings('ignore')"
      ],
      "execution_count": 2,
      "outputs": []
    },
    {
      "cell_type": "code",
      "metadata": {
        "id": "EHC_6TUHa_xI"
      },
      "source": [
        "# 데이터 불러오기\n",
        "import pandas as pd\n",
        "\n",
        "url = 'https://docs.google.com/uc?export=download&id=1OKV8Wym_meJYKfVZBW_sVHOTejjQIFj_'\n",
        "df = pd.read_csv(url)"
      ],
      "execution_count": 3,
      "outputs": []
    },
    {
      "cell_type": "markdown",
      "metadata": {
        "id": "GO-p8MSUbBhE"
      },
      "source": [
        "#### ***Data Description***\n",
        "- `customerID` : 고객의 ID\n",
        "- `gender` : 고객의 성별\n",
        "- `SeniorCitizen` : 고객이 노인인지 여부 `(0, 1)`\n",
        "- `Partner` : 고객에게 파트너가 있는지 여부 `(Yes, No)`\n",
        "- `Dependents` : 고객에게 피 부양자가 있는지 여부 `(Yes, No)`\n",
        "- `tenure` : 고객이 우리 통신사에 머문 기간(월)\n",
        "- `PhoneService` : 고객이 휴대전화 서비스를 이용하는지 여부 `(Yes, No)`\n",
        "- `MultipleLines` : 고객에게 여러 회선이 있는지 여부`(Yes, No, No phone service)`\n",
        "- `InternetService` : 고객의 인터넷 서비스 공급자`(DSL, Fiber optic(광섬유), No)`\n",
        "- `OnlineSecurity` : 고객의 온라인 보안 여부`(Yes, No, No internet service)`\n",
        "- `OnlineBackup`: 고객의 온라인 백업 여부`(Yes, No, No internet service)`\n",
        "- `DeviceProtection` : 고객에게 장치 보호 기능이 있는지 여부`(Yes, No, No internet service)`\n",
        "- `TechSupport` : 고객에게 기술 지원이 있는지 여부`(Yes, No, No internet service)`\n",
        "- `StreamingTV` : 고객에게 스트리밍 TV가 있는지 여부`(Yes, No, No internet service)`\n",
        "- `StreamingMovies` : 고객에게 스트리밍 영화가 있는지 여부`(Yes, No, No internet service)`\n",
        "- `Contract` : 고객의 계약 기간`(Month-to-month, One year, Two year)`\n",
        "- `PaperlessBilling` : 고객이 종이 없는 청구서를 가지고 있는지 여부`(Yes, No)`\n",
        "- `PaymentMethod` : 고객의 결제 방법\n",
        "\n",
        "        (Electronic check(전자 수표), Mailed check(우편 수표),\n",
        "        Bank transfer (automatic)(은행 송금(자동)), Credit card (automatic)(신용카드(자동)))\n",
        "\n",
        "- `MonthlyCharges` : 고객에게 매월 청구된 금액\n",
        "- `TotalCharges` : 고객에게 청구된 총 금액\n",
        "- `Churn` : 고객의 이탈 여부`(Yes or No)`"
      ]
    },
    {
      "cell_type": "markdown",
      "metadata": {
        "id": "N38xlkGzg_E-"
      },
      "source": [
        "##### 데이터 전처리"
      ]
    },
    {
      "cell_type": "code",
      "metadata": {
        "id": "v5v6XO1OgEQ4"
      },
      "source": [
        "import numpy as np\n",
        "\n",
        "df['Churn'] = np.where(df['Churn'] == 'Yes', 1, 0)\n",
        "df.drop('customerID', axis=1, inplace=True)\n",
        "df['SeniorCitizen'] = df['SeniorCitizen'].astype('O')\n",
        "df['TotalCharges'] = pd.to_numeric(df['TotalCharges'], errors='coerce')"
      ],
      "execution_count": 4,
      "outputs": []
    },
    {
      "cell_type": "code",
      "metadata": {
        "colab": {
          "base_uri": "https://localhost:8080/",
          "height": 0
        },
        "id": "mURgckk-g1Ur",
        "outputId": "e6b53fd6-9d6d-4fb4-e827-47f809d18f78"
      },
      "source": [
        "df[df['TotalCharges'].isnull()]"
      ],
      "execution_count": 5,
      "outputs": [
        {
          "output_type": "execute_result",
          "data": {
            "text/html": [
              "<div>\n",
              "<style scoped>\n",
              "    .dataframe tbody tr th:only-of-type {\n",
              "        vertical-align: middle;\n",
              "    }\n",
              "\n",
              "    .dataframe tbody tr th {\n",
              "        vertical-align: top;\n",
              "    }\n",
              "\n",
              "    .dataframe thead th {\n",
              "        text-align: right;\n",
              "    }\n",
              "</style>\n",
              "<table border=\"1\" class=\"dataframe\">\n",
              "  <thead>\n",
              "    <tr style=\"text-align: right;\">\n",
              "      <th></th>\n",
              "      <th>gender</th>\n",
              "      <th>SeniorCitizen</th>\n",
              "      <th>Partner</th>\n",
              "      <th>Dependents</th>\n",
              "      <th>tenure</th>\n",
              "      <th>PhoneService</th>\n",
              "      <th>MultipleLines</th>\n",
              "      <th>InternetService</th>\n",
              "      <th>OnlineSecurity</th>\n",
              "      <th>OnlineBackup</th>\n",
              "      <th>DeviceProtection</th>\n",
              "      <th>TechSupport</th>\n",
              "      <th>StreamingTV</th>\n",
              "      <th>StreamingMovies</th>\n",
              "      <th>Contract</th>\n",
              "      <th>PaperlessBilling</th>\n",
              "      <th>PaymentMethod</th>\n",
              "      <th>MonthlyCharges</th>\n",
              "      <th>TotalCharges</th>\n",
              "      <th>Churn</th>\n",
              "    </tr>\n",
              "  </thead>\n",
              "  <tbody>\n",
              "    <tr>\n",
              "      <th>488</th>\n",
              "      <td>Female</td>\n",
              "      <td>0</td>\n",
              "      <td>Yes</td>\n",
              "      <td>Yes</td>\n",
              "      <td>0</td>\n",
              "      <td>No</td>\n",
              "      <td>No phone service</td>\n",
              "      <td>DSL</td>\n",
              "      <td>Yes</td>\n",
              "      <td>No</td>\n",
              "      <td>Yes</td>\n",
              "      <td>Yes</td>\n",
              "      <td>Yes</td>\n",
              "      <td>No</td>\n",
              "      <td>Two year</td>\n",
              "      <td>Yes</td>\n",
              "      <td>Bank transfer (automatic)</td>\n",
              "      <td>52.55</td>\n",
              "      <td>NaN</td>\n",
              "      <td>0</td>\n",
              "    </tr>\n",
              "    <tr>\n",
              "      <th>753</th>\n",
              "      <td>Male</td>\n",
              "      <td>0</td>\n",
              "      <td>No</td>\n",
              "      <td>Yes</td>\n",
              "      <td>0</td>\n",
              "      <td>Yes</td>\n",
              "      <td>No</td>\n",
              "      <td>No</td>\n",
              "      <td>No internet service</td>\n",
              "      <td>No internet service</td>\n",
              "      <td>No internet service</td>\n",
              "      <td>No internet service</td>\n",
              "      <td>No internet service</td>\n",
              "      <td>No internet service</td>\n",
              "      <td>Two year</td>\n",
              "      <td>No</td>\n",
              "      <td>Mailed check</td>\n",
              "      <td>20.25</td>\n",
              "      <td>NaN</td>\n",
              "      <td>0</td>\n",
              "    </tr>\n",
              "    <tr>\n",
              "      <th>936</th>\n",
              "      <td>Female</td>\n",
              "      <td>0</td>\n",
              "      <td>Yes</td>\n",
              "      <td>Yes</td>\n",
              "      <td>0</td>\n",
              "      <td>Yes</td>\n",
              "      <td>No</td>\n",
              "      <td>DSL</td>\n",
              "      <td>Yes</td>\n",
              "      <td>Yes</td>\n",
              "      <td>Yes</td>\n",
              "      <td>No</td>\n",
              "      <td>Yes</td>\n",
              "      <td>Yes</td>\n",
              "      <td>Two year</td>\n",
              "      <td>No</td>\n",
              "      <td>Mailed check</td>\n",
              "      <td>80.85</td>\n",
              "      <td>NaN</td>\n",
              "      <td>0</td>\n",
              "    </tr>\n",
              "    <tr>\n",
              "      <th>1082</th>\n",
              "      <td>Male</td>\n",
              "      <td>0</td>\n",
              "      <td>Yes</td>\n",
              "      <td>Yes</td>\n",
              "      <td>0</td>\n",
              "      <td>Yes</td>\n",
              "      <td>Yes</td>\n",
              "      <td>No</td>\n",
              "      <td>No internet service</td>\n",
              "      <td>No internet service</td>\n",
              "      <td>No internet service</td>\n",
              "      <td>No internet service</td>\n",
              "      <td>No internet service</td>\n",
              "      <td>No internet service</td>\n",
              "      <td>Two year</td>\n",
              "      <td>No</td>\n",
              "      <td>Mailed check</td>\n",
              "      <td>25.75</td>\n",
              "      <td>NaN</td>\n",
              "      <td>0</td>\n",
              "    </tr>\n",
              "    <tr>\n",
              "      <th>1340</th>\n",
              "      <td>Female</td>\n",
              "      <td>0</td>\n",
              "      <td>Yes</td>\n",
              "      <td>Yes</td>\n",
              "      <td>0</td>\n",
              "      <td>No</td>\n",
              "      <td>No phone service</td>\n",
              "      <td>DSL</td>\n",
              "      <td>Yes</td>\n",
              "      <td>Yes</td>\n",
              "      <td>Yes</td>\n",
              "      <td>Yes</td>\n",
              "      <td>Yes</td>\n",
              "      <td>No</td>\n",
              "      <td>Two year</td>\n",
              "      <td>No</td>\n",
              "      <td>Credit card (automatic)</td>\n",
              "      <td>56.05</td>\n",
              "      <td>NaN</td>\n",
              "      <td>0</td>\n",
              "    </tr>\n",
              "    <tr>\n",
              "      <th>3331</th>\n",
              "      <td>Male</td>\n",
              "      <td>0</td>\n",
              "      <td>Yes</td>\n",
              "      <td>Yes</td>\n",
              "      <td>0</td>\n",
              "      <td>Yes</td>\n",
              "      <td>No</td>\n",
              "      <td>No</td>\n",
              "      <td>No internet service</td>\n",
              "      <td>No internet service</td>\n",
              "      <td>No internet service</td>\n",
              "      <td>No internet service</td>\n",
              "      <td>No internet service</td>\n",
              "      <td>No internet service</td>\n",
              "      <td>Two year</td>\n",
              "      <td>No</td>\n",
              "      <td>Mailed check</td>\n",
              "      <td>19.85</td>\n",
              "      <td>NaN</td>\n",
              "      <td>0</td>\n",
              "    </tr>\n",
              "    <tr>\n",
              "      <th>3826</th>\n",
              "      <td>Male</td>\n",
              "      <td>0</td>\n",
              "      <td>Yes</td>\n",
              "      <td>Yes</td>\n",
              "      <td>0</td>\n",
              "      <td>Yes</td>\n",
              "      <td>Yes</td>\n",
              "      <td>No</td>\n",
              "      <td>No internet service</td>\n",
              "      <td>No internet service</td>\n",
              "      <td>No internet service</td>\n",
              "      <td>No internet service</td>\n",
              "      <td>No internet service</td>\n",
              "      <td>No internet service</td>\n",
              "      <td>Two year</td>\n",
              "      <td>No</td>\n",
              "      <td>Mailed check</td>\n",
              "      <td>25.35</td>\n",
              "      <td>NaN</td>\n",
              "      <td>0</td>\n",
              "    </tr>\n",
              "    <tr>\n",
              "      <th>4380</th>\n",
              "      <td>Female</td>\n",
              "      <td>0</td>\n",
              "      <td>Yes</td>\n",
              "      <td>Yes</td>\n",
              "      <td>0</td>\n",
              "      <td>Yes</td>\n",
              "      <td>No</td>\n",
              "      <td>No</td>\n",
              "      <td>No internet service</td>\n",
              "      <td>No internet service</td>\n",
              "      <td>No internet service</td>\n",
              "      <td>No internet service</td>\n",
              "      <td>No internet service</td>\n",
              "      <td>No internet service</td>\n",
              "      <td>Two year</td>\n",
              "      <td>No</td>\n",
              "      <td>Mailed check</td>\n",
              "      <td>20.00</td>\n",
              "      <td>NaN</td>\n",
              "      <td>0</td>\n",
              "    </tr>\n",
              "    <tr>\n",
              "      <th>5218</th>\n",
              "      <td>Male</td>\n",
              "      <td>0</td>\n",
              "      <td>Yes</td>\n",
              "      <td>Yes</td>\n",
              "      <td>0</td>\n",
              "      <td>Yes</td>\n",
              "      <td>No</td>\n",
              "      <td>No</td>\n",
              "      <td>No internet service</td>\n",
              "      <td>No internet service</td>\n",
              "      <td>No internet service</td>\n",
              "      <td>No internet service</td>\n",
              "      <td>No internet service</td>\n",
              "      <td>No internet service</td>\n",
              "      <td>One year</td>\n",
              "      <td>Yes</td>\n",
              "      <td>Mailed check</td>\n",
              "      <td>19.70</td>\n",
              "      <td>NaN</td>\n",
              "      <td>0</td>\n",
              "    </tr>\n",
              "    <tr>\n",
              "      <th>6670</th>\n",
              "      <td>Female</td>\n",
              "      <td>0</td>\n",
              "      <td>Yes</td>\n",
              "      <td>Yes</td>\n",
              "      <td>0</td>\n",
              "      <td>Yes</td>\n",
              "      <td>Yes</td>\n",
              "      <td>DSL</td>\n",
              "      <td>No</td>\n",
              "      <td>Yes</td>\n",
              "      <td>Yes</td>\n",
              "      <td>Yes</td>\n",
              "      <td>Yes</td>\n",
              "      <td>No</td>\n",
              "      <td>Two year</td>\n",
              "      <td>No</td>\n",
              "      <td>Mailed check</td>\n",
              "      <td>73.35</td>\n",
              "      <td>NaN</td>\n",
              "      <td>0</td>\n",
              "    </tr>\n",
              "    <tr>\n",
              "      <th>6754</th>\n",
              "      <td>Male</td>\n",
              "      <td>0</td>\n",
              "      <td>No</td>\n",
              "      <td>Yes</td>\n",
              "      <td>0</td>\n",
              "      <td>Yes</td>\n",
              "      <td>Yes</td>\n",
              "      <td>DSL</td>\n",
              "      <td>Yes</td>\n",
              "      <td>Yes</td>\n",
              "      <td>No</td>\n",
              "      <td>Yes</td>\n",
              "      <td>No</td>\n",
              "      <td>No</td>\n",
              "      <td>Two year</td>\n",
              "      <td>Yes</td>\n",
              "      <td>Bank transfer (automatic)</td>\n",
              "      <td>61.90</td>\n",
              "      <td>NaN</td>\n",
              "      <td>0</td>\n",
              "    </tr>\n",
              "  </tbody>\n",
              "</table>\n",
              "</div>"
            ],
            "text/plain": [
              "      gender SeniorCitizen Partner  ... MonthlyCharges  TotalCharges Churn\n",
              "488   Female             0     Yes  ...          52.55           NaN     0\n",
              "753     Male             0      No  ...          20.25           NaN     0\n",
              "936   Female             0     Yes  ...          80.85           NaN     0\n",
              "1082    Male             0     Yes  ...          25.75           NaN     0\n",
              "1340  Female             0     Yes  ...          56.05           NaN     0\n",
              "3331    Male             0     Yes  ...          19.85           NaN     0\n",
              "3826    Male             0     Yes  ...          25.35           NaN     0\n",
              "4380  Female             0     Yes  ...          20.00           NaN     0\n",
              "5218    Male             0     Yes  ...          19.70           NaN     0\n",
              "6670  Female             0     Yes  ...          73.35           NaN     0\n",
              "6754    Male             0      No  ...          61.90           NaN     0\n",
              "\n",
              "[11 rows x 20 columns]"
            ]
          },
          "metadata": {},
          "execution_count": 5
        }
      ]
    },
    {
      "cell_type": "code",
      "metadata": {
        "id": "kpP2Px69hGvJ"
      },
      "source": [
        "nulls_id = df[df['TotalCharges'].isnull()].index.tolist()\n",
        "\n",
        "# null값은 신규 고객으로 보이므로 월 납부요금으로 결측치를 채워준다.\n",
        "df.loc[df.index.isin(nulls_id), 'TotalCharges'] = df.loc[df.index.isin(nulls_id), 'MonthlyCharges']"
      ],
      "execution_count": 6,
      "outputs": []
    },
    {
      "cell_type": "code",
      "metadata": {
        "colab": {
          "base_uri": "https://localhost:8080/",
          "height": 0
        },
        "id": "cPh3RKgxhPy5",
        "outputId": "f81df33f-5059-4a76-bde5-5a06f452bdcc"
      },
      "source": [
        "df[df.index.isin(nulls_id)]"
      ],
      "execution_count": 7,
      "outputs": [
        {
          "output_type": "execute_result",
          "data": {
            "text/html": [
              "<div>\n",
              "<style scoped>\n",
              "    .dataframe tbody tr th:only-of-type {\n",
              "        vertical-align: middle;\n",
              "    }\n",
              "\n",
              "    .dataframe tbody tr th {\n",
              "        vertical-align: top;\n",
              "    }\n",
              "\n",
              "    .dataframe thead th {\n",
              "        text-align: right;\n",
              "    }\n",
              "</style>\n",
              "<table border=\"1\" class=\"dataframe\">\n",
              "  <thead>\n",
              "    <tr style=\"text-align: right;\">\n",
              "      <th></th>\n",
              "      <th>gender</th>\n",
              "      <th>SeniorCitizen</th>\n",
              "      <th>Partner</th>\n",
              "      <th>Dependents</th>\n",
              "      <th>tenure</th>\n",
              "      <th>PhoneService</th>\n",
              "      <th>MultipleLines</th>\n",
              "      <th>InternetService</th>\n",
              "      <th>OnlineSecurity</th>\n",
              "      <th>OnlineBackup</th>\n",
              "      <th>DeviceProtection</th>\n",
              "      <th>TechSupport</th>\n",
              "      <th>StreamingTV</th>\n",
              "      <th>StreamingMovies</th>\n",
              "      <th>Contract</th>\n",
              "      <th>PaperlessBilling</th>\n",
              "      <th>PaymentMethod</th>\n",
              "      <th>MonthlyCharges</th>\n",
              "      <th>TotalCharges</th>\n",
              "      <th>Churn</th>\n",
              "    </tr>\n",
              "  </thead>\n",
              "  <tbody>\n",
              "    <tr>\n",
              "      <th>488</th>\n",
              "      <td>Female</td>\n",
              "      <td>0</td>\n",
              "      <td>Yes</td>\n",
              "      <td>Yes</td>\n",
              "      <td>0</td>\n",
              "      <td>No</td>\n",
              "      <td>No phone service</td>\n",
              "      <td>DSL</td>\n",
              "      <td>Yes</td>\n",
              "      <td>No</td>\n",
              "      <td>Yes</td>\n",
              "      <td>Yes</td>\n",
              "      <td>Yes</td>\n",
              "      <td>No</td>\n",
              "      <td>Two year</td>\n",
              "      <td>Yes</td>\n",
              "      <td>Bank transfer (automatic)</td>\n",
              "      <td>52.55</td>\n",
              "      <td>52.55</td>\n",
              "      <td>0</td>\n",
              "    </tr>\n",
              "    <tr>\n",
              "      <th>753</th>\n",
              "      <td>Male</td>\n",
              "      <td>0</td>\n",
              "      <td>No</td>\n",
              "      <td>Yes</td>\n",
              "      <td>0</td>\n",
              "      <td>Yes</td>\n",
              "      <td>No</td>\n",
              "      <td>No</td>\n",
              "      <td>No internet service</td>\n",
              "      <td>No internet service</td>\n",
              "      <td>No internet service</td>\n",
              "      <td>No internet service</td>\n",
              "      <td>No internet service</td>\n",
              "      <td>No internet service</td>\n",
              "      <td>Two year</td>\n",
              "      <td>No</td>\n",
              "      <td>Mailed check</td>\n",
              "      <td>20.25</td>\n",
              "      <td>20.25</td>\n",
              "      <td>0</td>\n",
              "    </tr>\n",
              "    <tr>\n",
              "      <th>936</th>\n",
              "      <td>Female</td>\n",
              "      <td>0</td>\n",
              "      <td>Yes</td>\n",
              "      <td>Yes</td>\n",
              "      <td>0</td>\n",
              "      <td>Yes</td>\n",
              "      <td>No</td>\n",
              "      <td>DSL</td>\n",
              "      <td>Yes</td>\n",
              "      <td>Yes</td>\n",
              "      <td>Yes</td>\n",
              "      <td>No</td>\n",
              "      <td>Yes</td>\n",
              "      <td>Yes</td>\n",
              "      <td>Two year</td>\n",
              "      <td>No</td>\n",
              "      <td>Mailed check</td>\n",
              "      <td>80.85</td>\n",
              "      <td>80.85</td>\n",
              "      <td>0</td>\n",
              "    </tr>\n",
              "    <tr>\n",
              "      <th>1082</th>\n",
              "      <td>Male</td>\n",
              "      <td>0</td>\n",
              "      <td>Yes</td>\n",
              "      <td>Yes</td>\n",
              "      <td>0</td>\n",
              "      <td>Yes</td>\n",
              "      <td>Yes</td>\n",
              "      <td>No</td>\n",
              "      <td>No internet service</td>\n",
              "      <td>No internet service</td>\n",
              "      <td>No internet service</td>\n",
              "      <td>No internet service</td>\n",
              "      <td>No internet service</td>\n",
              "      <td>No internet service</td>\n",
              "      <td>Two year</td>\n",
              "      <td>No</td>\n",
              "      <td>Mailed check</td>\n",
              "      <td>25.75</td>\n",
              "      <td>25.75</td>\n",
              "      <td>0</td>\n",
              "    </tr>\n",
              "    <tr>\n",
              "      <th>1340</th>\n",
              "      <td>Female</td>\n",
              "      <td>0</td>\n",
              "      <td>Yes</td>\n",
              "      <td>Yes</td>\n",
              "      <td>0</td>\n",
              "      <td>No</td>\n",
              "      <td>No phone service</td>\n",
              "      <td>DSL</td>\n",
              "      <td>Yes</td>\n",
              "      <td>Yes</td>\n",
              "      <td>Yes</td>\n",
              "      <td>Yes</td>\n",
              "      <td>Yes</td>\n",
              "      <td>No</td>\n",
              "      <td>Two year</td>\n",
              "      <td>No</td>\n",
              "      <td>Credit card (automatic)</td>\n",
              "      <td>56.05</td>\n",
              "      <td>56.05</td>\n",
              "      <td>0</td>\n",
              "    </tr>\n",
              "    <tr>\n",
              "      <th>3331</th>\n",
              "      <td>Male</td>\n",
              "      <td>0</td>\n",
              "      <td>Yes</td>\n",
              "      <td>Yes</td>\n",
              "      <td>0</td>\n",
              "      <td>Yes</td>\n",
              "      <td>No</td>\n",
              "      <td>No</td>\n",
              "      <td>No internet service</td>\n",
              "      <td>No internet service</td>\n",
              "      <td>No internet service</td>\n",
              "      <td>No internet service</td>\n",
              "      <td>No internet service</td>\n",
              "      <td>No internet service</td>\n",
              "      <td>Two year</td>\n",
              "      <td>No</td>\n",
              "      <td>Mailed check</td>\n",
              "      <td>19.85</td>\n",
              "      <td>19.85</td>\n",
              "      <td>0</td>\n",
              "    </tr>\n",
              "    <tr>\n",
              "      <th>3826</th>\n",
              "      <td>Male</td>\n",
              "      <td>0</td>\n",
              "      <td>Yes</td>\n",
              "      <td>Yes</td>\n",
              "      <td>0</td>\n",
              "      <td>Yes</td>\n",
              "      <td>Yes</td>\n",
              "      <td>No</td>\n",
              "      <td>No internet service</td>\n",
              "      <td>No internet service</td>\n",
              "      <td>No internet service</td>\n",
              "      <td>No internet service</td>\n",
              "      <td>No internet service</td>\n",
              "      <td>No internet service</td>\n",
              "      <td>Two year</td>\n",
              "      <td>No</td>\n",
              "      <td>Mailed check</td>\n",
              "      <td>25.35</td>\n",
              "      <td>25.35</td>\n",
              "      <td>0</td>\n",
              "    </tr>\n",
              "    <tr>\n",
              "      <th>4380</th>\n",
              "      <td>Female</td>\n",
              "      <td>0</td>\n",
              "      <td>Yes</td>\n",
              "      <td>Yes</td>\n",
              "      <td>0</td>\n",
              "      <td>Yes</td>\n",
              "      <td>No</td>\n",
              "      <td>No</td>\n",
              "      <td>No internet service</td>\n",
              "      <td>No internet service</td>\n",
              "      <td>No internet service</td>\n",
              "      <td>No internet service</td>\n",
              "      <td>No internet service</td>\n",
              "      <td>No internet service</td>\n",
              "      <td>Two year</td>\n",
              "      <td>No</td>\n",
              "      <td>Mailed check</td>\n",
              "      <td>20.00</td>\n",
              "      <td>20.00</td>\n",
              "      <td>0</td>\n",
              "    </tr>\n",
              "    <tr>\n",
              "      <th>5218</th>\n",
              "      <td>Male</td>\n",
              "      <td>0</td>\n",
              "      <td>Yes</td>\n",
              "      <td>Yes</td>\n",
              "      <td>0</td>\n",
              "      <td>Yes</td>\n",
              "      <td>No</td>\n",
              "      <td>No</td>\n",
              "      <td>No internet service</td>\n",
              "      <td>No internet service</td>\n",
              "      <td>No internet service</td>\n",
              "      <td>No internet service</td>\n",
              "      <td>No internet service</td>\n",
              "      <td>No internet service</td>\n",
              "      <td>One year</td>\n",
              "      <td>Yes</td>\n",
              "      <td>Mailed check</td>\n",
              "      <td>19.70</td>\n",
              "      <td>19.70</td>\n",
              "      <td>0</td>\n",
              "    </tr>\n",
              "    <tr>\n",
              "      <th>6670</th>\n",
              "      <td>Female</td>\n",
              "      <td>0</td>\n",
              "      <td>Yes</td>\n",
              "      <td>Yes</td>\n",
              "      <td>0</td>\n",
              "      <td>Yes</td>\n",
              "      <td>Yes</td>\n",
              "      <td>DSL</td>\n",
              "      <td>No</td>\n",
              "      <td>Yes</td>\n",
              "      <td>Yes</td>\n",
              "      <td>Yes</td>\n",
              "      <td>Yes</td>\n",
              "      <td>No</td>\n",
              "      <td>Two year</td>\n",
              "      <td>No</td>\n",
              "      <td>Mailed check</td>\n",
              "      <td>73.35</td>\n",
              "      <td>73.35</td>\n",
              "      <td>0</td>\n",
              "    </tr>\n",
              "    <tr>\n",
              "      <th>6754</th>\n",
              "      <td>Male</td>\n",
              "      <td>0</td>\n",
              "      <td>No</td>\n",
              "      <td>Yes</td>\n",
              "      <td>0</td>\n",
              "      <td>Yes</td>\n",
              "      <td>Yes</td>\n",
              "      <td>DSL</td>\n",
              "      <td>Yes</td>\n",
              "      <td>Yes</td>\n",
              "      <td>No</td>\n",
              "      <td>Yes</td>\n",
              "      <td>No</td>\n",
              "      <td>No</td>\n",
              "      <td>Two year</td>\n",
              "      <td>Yes</td>\n",
              "      <td>Bank transfer (automatic)</td>\n",
              "      <td>61.90</td>\n",
              "      <td>61.90</td>\n",
              "      <td>0</td>\n",
              "    </tr>\n",
              "  </tbody>\n",
              "</table>\n",
              "</div>"
            ],
            "text/plain": [
              "      gender SeniorCitizen Partner  ... MonthlyCharges  TotalCharges Churn\n",
              "488   Female             0     Yes  ...          52.55         52.55     0\n",
              "753     Male             0      No  ...          20.25         20.25     0\n",
              "936   Female             0     Yes  ...          80.85         80.85     0\n",
              "1082    Male             0     Yes  ...          25.75         25.75     0\n",
              "1340  Female             0     Yes  ...          56.05         56.05     0\n",
              "3331    Male             0     Yes  ...          19.85         19.85     0\n",
              "3826    Male             0     Yes  ...          25.35         25.35     0\n",
              "4380  Female             0     Yes  ...          20.00         20.00     0\n",
              "5218    Male             0     Yes  ...          19.70         19.70     0\n",
              "6670  Female             0     Yes  ...          73.35         73.35     0\n",
              "6754    Male             0      No  ...          61.90         61.90     0\n",
              "\n",
              "[11 rows x 20 columns]"
            ]
          },
          "metadata": {},
          "execution_count": 7
        }
      ]
    },
    {
      "cell_type": "code",
      "metadata": {
        "id": "Fc5UtguVjmHb"
      },
      "source": [
        "## 타겟, 특성 나누기\n",
        "target = 'Churn'\n",
        "features = df.columns.tolist()\n",
        "features.remove(target)\n",
        "num_features = ['tenure', 'MonthlyCharges', 'TotalCharges']\n",
        "cat_features = list(set(features).difference(num_features))"
      ],
      "execution_count": 8,
      "outputs": []
    },
    {
      "cell_type": "code",
      "metadata": {
        "colab": {
          "base_uri": "https://localhost:8080/"
        },
        "id": "_UGAS9GemsWq",
        "outputId": "e3fa855d-f790-4ff9-ebe7-112b898d6bf1"
      },
      "source": [
        "type(cat_features)"
      ],
      "execution_count": 9,
      "outputs": [
        {
          "output_type": "execute_result",
          "data": {
            "text/plain": [
              "list"
            ]
          },
          "metadata": {},
          "execution_count": 9
        }
      ]
    },
    {
      "cell_type": "markdown",
      "metadata": {
        "id": "gJB10sfzohw9"
      },
      "source": [
        "##### EDA"
      ]
    },
    {
      "cell_type": "code",
      "metadata": {
        "colab": {
          "base_uri": "https://localhost:8080/",
          "height": 0
        },
        "id": "p-i9f4Oiomoi",
        "outputId": "c2a0b073-d886-4981-ffe1-e613ede2b68b"
      },
      "source": [
        "# target과 feature들의 상관관계 파악하기\n",
        "import matplotlib.pyplot as plt\n",
        "\n",
        "plt.figure(figsize=(12,6))\n",
        "(pd.get_dummies(df).corr()['Churn']).sort_values(ascending=False).plot(kind='bar');"
      ],
      "execution_count": 10,
      "outputs": [
        {
          "output_type": "display_data",
          "data": {
            "image/png": "[encoded data removed]",
            "text/plain": [
              "<Figure size 864x432 with 1 Axes>"
            ]
          },
          "metadata": {
            "needs_background": "light"
          }
        }
      ]
    },
    {
      "cell_type": "code",
      "metadata": {
        "colab": {
          "base_uri": "https://localhost:8080/",
          "height": 0
        },
        "id": "5I3fA6otpDN0",
        "outputId": "50c43066-e64c-4930-edfd-286ac9df62ef"
      },
      "source": [
        "# numeric feature간의 상관관계 파악하기\n",
        "import seaborn as sns\n",
        "\n",
        "ax = sns.heatmap(df[num_features].corr(), cmap='twilight_shifted', vmin=-1, vmax=1, annot=True)"
      ],
      "execution_count": 11,
      "outputs": [
        {
          "output_type": "display_data",
          "data": {
            "image/png": "[encoded data removed]",
            "text/plain": [
              "<Figure size 432x288 with 2 Axes>"
            ]
          },
          "metadata": {
            "needs_background": "light"
          }
        }
      ]
    },
    {
      "cell_type": "markdown",
      "metadata": {
        "id": "iZE4qwOPBW9l"
      },
      "source": [
        "`tenure`과 `TotalCharges`의 상관관계는 0.83, `MonthlyCharges`와 `TotalCharges`의 상관관계는 0.65로 상관관계가 있다고 할 수 있으나 0.85가 넘지 않으므로 둘 다 삭제하지 않는다."
      ]
    },
    {
      "cell_type": "markdown",
      "metadata": {
        "id": "uWwpbQ_qnYey"
      },
      "source": [
        "##### 데이터 랭글링\n",
        ": 데이터 셋을 나누지 않고 전체 데이터로 의미를 도출한다."
      ]
    },
    {
      "cell_type": "markdown",
      "metadata": {
        "id": "2OIKaoN_GLrQ"
      },
      "source": [
        "1. `Contract`"
      ]
    },
    {
      "cell_type": "code",
      "metadata": {
        "colab": {
          "base_uri": "https://localhost:8080/",
          "height": 0
        },
        "id": "IO1VuNuYDoBe",
        "outputId": "5cc75d29-abcc-46ae-ec0d-7e4f10b33883"
      },
      "source": [
        "chrun_to_contract = df.groupby(['Churn', 'Contract']).count()\n",
        "chrun_to_contract= chrun_to_contract.mean(axis=1).reset_index().rename(columns={0:'Counts'}).pivot_table(index='Contract', columns='Churn', values = 'Counts')\n",
        "chrun_to_contract['Ratio(%)'] = (chrun_to_contract[1] / (chrun_to_contract[0]+chrun_to_contract[1]))*100\n",
        "chrun_to_contract"
      ],
      "execution_count": 12,
      "outputs": [
        {
          "output_type": "execute_result",
          "data": {
            "text/html": [
              "<div>\n",
              "<style scoped>\n",
              "    .dataframe tbody tr th:only-of-type {\n",
              "        vertical-align: middle;\n",
              "    }\n",
              "\n",
              "    .dataframe tbody tr th {\n",
              "        vertical-align: top;\n",
              "    }\n",
              "\n",
              "    .dataframe thead th {\n",
              "        text-align: right;\n",
              "    }\n",
              "</style>\n",
              "<table border=\"1\" class=\"dataframe\">\n",
              "  <thead>\n",
              "    <tr style=\"text-align: right;\">\n",
              "      <th>Churn</th>\n",
              "      <th>0</th>\n",
              "      <th>1</th>\n",
              "      <th>Ratio(%)</th>\n",
              "    </tr>\n",
              "    <tr>\n",
              "      <th>Contract</th>\n",
              "      <th></th>\n",
              "      <th></th>\n",
              "      <th></th>\n",
              "    </tr>\n",
              "  </thead>\n",
              "  <tbody>\n",
              "    <tr>\n",
              "      <th>Month-to-month</th>\n",
              "      <td>2220.0</td>\n",
              "      <td>1655.0</td>\n",
              "      <td>42.709677</td>\n",
              "    </tr>\n",
              "    <tr>\n",
              "      <th>One year</th>\n",
              "      <td>1307.0</td>\n",
              "      <td>166.0</td>\n",
              "      <td>11.269518</td>\n",
              "    </tr>\n",
              "    <tr>\n",
              "      <th>Two year</th>\n",
              "      <td>1647.0</td>\n",
              "      <td>48.0</td>\n",
              "      <td>2.831858</td>\n",
              "    </tr>\n",
              "  </tbody>\n",
              "</table>\n",
              "</div>"
            ],
            "text/plain": [
              "Churn                0       1   Ratio(%)\n",
              "Contract                                 \n",
              "Month-to-month  2220.0  1655.0  42.709677\n",
              "One year        1307.0   166.0  11.269518\n",
              "Two year        1647.0    48.0   2.831858"
            ]
          },
          "metadata": {},
          "execution_count": 12
        }
      ]
    },
    {
      "cell_type": "code",
      "metadata": {
        "colab": {
          "base_uri": "https://localhost:8080/",
          "height": 0
        },
        "id": "v1u1UA8XT2ly",
        "outputId": "3f4bf61e-2e8e-4c82-b4e7-78ec409562ee"
      },
      "source": [
        "import seaborn as sns\n",
        "sns.catplot(data=df.groupby(['Churn', 'Contract']).count().mean(axis=1).reset_index().rename(columns={0:'Counts'}), kind='bar',\n",
        "            x='Contract', y='Counts', hue='Churn');\n",
        "plt.show()"
      ],
      "execution_count": 13,
      "outputs": [
        {
          "output_type": "display_data",
          "data": {
            "image/png": "[encoded data removed]",
            "text/plain": [
              "<Figure size 402.375x360 with 1 Axes>"
            ]
          },
          "metadata": {
            "needs_background": "light"
          }
        }
      ]
    },
    {
      "cell_type": "markdown",
      "metadata": {
        "id": "usdc00dVFv0M"
      },
      "source": [
        "`Month-to-Month`로 계약한 사람들이 가장 많고, 해지율도 매우 높은 편이다.\n",
        "\n",
        "> 단기 고객을 붙잡아 둘 프로모션 필요"
      ]
    },
    {
      "cell_type": "markdown",
      "metadata": {
        "id": "6xg7H0ZtGPym"
      },
      "source": [
        "2. `InternetService`"
      ]
    },
    {
      "cell_type": "code",
      "metadata": {
        "colab": {
          "base_uri": "https://localhost:8080/",
          "height": 0
        },
        "id": "IYXEJLI7GEwH",
        "outputId": "28a32b59-5511-4913-dbec-c1f589005dc2"
      },
      "source": [
        "chrun_to_internet = df.groupby(['Churn', 'InternetService']).count()\n",
        "chrun_to_internet = chrun_to_internet.mean(axis=1).reset_index().rename(columns={0:'Counts'}).pivot_table(index='InternetService', columns='Churn', values='Counts')\n",
        "chrun_to_internet['Ratio(%)'] = (chrun_to_internet[1] / (chrun_to_internet[0]+chrun_to_internet[1]))*100\n",
        "chrun_to_internet"
      ],
      "execution_count": 14,
      "outputs": [
        {
          "output_type": "execute_result",
          "data": {
            "text/html": [
              "<div>\n",
              "<style scoped>\n",
              "    .dataframe tbody tr th:only-of-type {\n",
              "        vertical-align: middle;\n",
              "    }\n",
              "\n",
              "    .dataframe tbody tr th {\n",
              "        vertical-align: top;\n",
              "    }\n",
              "\n",
              "    .dataframe thead th {\n",
              "        text-align: right;\n",
              "    }\n",
              "</style>\n",
              "<table border=\"1\" class=\"dataframe\">\n",
              "  <thead>\n",
              "    <tr style=\"text-align: right;\">\n",
              "      <th>Churn</th>\n",
              "      <th>0</th>\n",
              "      <th>1</th>\n",
              "      <th>Ratio(%)</th>\n",
              "    </tr>\n",
              "    <tr>\n",
              "      <th>InternetService</th>\n",
              "      <th></th>\n",
              "      <th></th>\n",
              "      <th></th>\n",
              "    </tr>\n",
              "  </thead>\n",
              "  <tbody>\n",
              "    <tr>\n",
              "      <th>DSL</th>\n",
              "      <td>1962.0</td>\n",
              "      <td>459.0</td>\n",
              "      <td>18.959108</td>\n",
              "    </tr>\n",
              "    <tr>\n",
              "      <th>Fiber optic</th>\n",
              "      <td>1799.0</td>\n",
              "      <td>1297.0</td>\n",
              "      <td>41.892765</td>\n",
              "    </tr>\n",
              "    <tr>\n",
              "      <th>No</th>\n",
              "      <td>1413.0</td>\n",
              "      <td>113.0</td>\n",
              "      <td>7.404980</td>\n",
              "    </tr>\n",
              "  </tbody>\n",
              "</table>\n",
              "</div>"
            ],
            "text/plain": [
              "Churn                 0       1   Ratio(%)\n",
              "InternetService                           \n",
              "DSL              1962.0   459.0  18.959108\n",
              "Fiber optic      1799.0  1297.0  41.892765\n",
              "No               1413.0   113.0   7.404980"
            ]
          },
          "metadata": {},
          "execution_count": 14
        }
      ]
    },
    {
      "cell_type": "code",
      "metadata": {
        "colab": {
          "base_uri": "https://localhost:8080/",
          "height": 0
        },
        "id": "GKNOoQDWft4H",
        "outputId": "f44f8638-9564-4145-f71a-bd78fefffbd8"
      },
      "source": [
        "sns.catplot(data=df.groupby(['Churn', 'InternetService']).count().mean(axis=1).reset_index().rename(columns={0:'Counts'}), kind='bar',\n",
        "            x='InternetService', y='Counts', hue='Churn');\n",
        "plt.show()"
      ],
      "execution_count": 15,
      "outputs": [
        {
          "output_type": "display_data",
          "data": {
            "image/png": "[encoded data removed]",
            "text/plain": [
              "<Figure size 402.375x360 with 1 Axes>"
            ]
          },
          "metadata": {
            "needs_background": "light"
          }
        }
      ]
    },
    {
      "cell_type": "markdown",
      "metadata": {
        "id": "KUvHmHXrTHmr"
      },
      "source": [
        "`Fiber optic` 이용 고객의 해지율이 매우 높다.\n",
        "\n",
        "> 광섬유 회선에 문제가 없는지 점검할 필요"
      ]
    },
    {
      "cell_type": "markdown",
      "metadata": {
        "id": "vGeVy0cKS4aw"
      },
      "source": [
        "3. `PaymentMethod`"
      ]
    },
    {
      "cell_type": "code",
      "metadata": {
        "colab": {
          "base_uri": "https://localhost:8080/",
          "height": 0
        },
        "id": "sGl9Ul6bToX-",
        "outputId": "4d34c651-f799-443d-ec9b-c27159ae54e9"
      },
      "source": [
        "chrun_to_paymentmethod = df.groupby(['Churn', 'PaymentMethod']).count()\n",
        "chrun_to_paymentmethod = chrun_to_paymentmethod.mean(axis=1).reset_index().rename(columns={0:'Counts'}).pivot_table(index='PaymentMethod', columns='Churn', values='Counts')\n",
        "chrun_to_paymentmethod['Ratio(%)'] = (chrun_to_paymentmethod[1] / (chrun_to_paymentmethod[0]+chrun_to_paymentmethod[1]))*100\n",
        "chrun_to_paymentmethod"
      ],
      "execution_count": 16,
      "outputs": [
        {
          "output_type": "execute_result",
          "data": {
            "text/html": [
              "<div>\n",
              "<style scoped>\n",
              "    .dataframe tbody tr th:only-of-type {\n",
              "        vertical-align: middle;\n",
              "    }\n",
              "\n",
              "    .dataframe tbody tr th {\n",
              "        vertical-align: top;\n",
              "    }\n",
              "\n",
              "    .dataframe thead th {\n",
              "        text-align: right;\n",
              "    }\n",
              "</style>\n",
              "<table border=\"1\" class=\"dataframe\">\n",
              "  <thead>\n",
              "    <tr style=\"text-align: right;\">\n",
              "      <th>Churn</th>\n",
              "      <th>0</th>\n",
              "      <th>1</th>\n",
              "      <th>Ratio(%)</th>\n",
              "    </tr>\n",
              "    <tr>\n",
              "      <th>PaymentMethod</th>\n",
              "      <th></th>\n",
              "      <th></th>\n",
              "      <th></th>\n",
              "    </tr>\n",
              "  </thead>\n",
              "  <tbody>\n",
              "    <tr>\n",
              "      <th>Bank transfer (automatic)</th>\n",
              "      <td>1286.0</td>\n",
              "      <td>258.0</td>\n",
              "      <td>16.709845</td>\n",
              "    </tr>\n",
              "    <tr>\n",
              "      <th>Credit card (automatic)</th>\n",
              "      <td>1290.0</td>\n",
              "      <td>232.0</td>\n",
              "      <td>15.243101</td>\n",
              "    </tr>\n",
              "    <tr>\n",
              "      <th>Electronic check</th>\n",
              "      <td>1294.0</td>\n",
              "      <td>1071.0</td>\n",
              "      <td>45.285412</td>\n",
              "    </tr>\n",
              "    <tr>\n",
              "      <th>Mailed check</th>\n",
              "      <td>1304.0</td>\n",
              "      <td>308.0</td>\n",
              "      <td>19.106700</td>\n",
              "    </tr>\n",
              "  </tbody>\n",
              "</table>\n",
              "</div>"
            ],
            "text/plain": [
              "Churn                           0       1   Ratio(%)\n",
              "PaymentMethod                                       \n",
              "Bank transfer (automatic)  1286.0   258.0  16.709845\n",
              "Credit card (automatic)    1290.0   232.0  15.243101\n",
              "Electronic check           1294.0  1071.0  45.285412\n",
              "Mailed check               1304.0   308.0  19.106700"
            ]
          },
          "metadata": {},
          "execution_count": 16
        }
      ]
    },
    {
      "cell_type": "code",
      "metadata": {
        "colab": {
          "base_uri": "https://localhost:8080/",
          "height": 0
        },
        "id": "NP8V2VT7f0uP",
        "outputId": "f7c116b3-6b18-4bc0-9f79-1c453a201c9b"
      },
      "source": [
        "d = df.groupby(['Churn', 'PaymentMethod']).count().mean(axis=1).reset_index().rename(columns={0:'Counts'})\n",
        "\n",
        "ax = sns.catplot(data=d,\n",
        "            x='PaymentMethod', y='Counts', hue='Churn', kind='bar')\n",
        "plt.gcf().set_size_inches(14, 4)"
      ],
      "execution_count": 17,
      "outputs": [
        {
          "output_type": "display_data",
          "data": {
            "image/png": "[encoded data removed]",
            "text/plain": [
              "<Figure size 1008x288 with 1 Axes>"
            ]
          },
          "metadata": {
            "needs_background": "light"
          }
        }
      ]
    },
    {
      "cell_type": "markdown",
      "metadata": {
        "id": "EtRyG-sllN6a"
      },
      "source": [
        "전자 결제 이용자들의 해지율이 너무 높다.\n",
        "\n",
        "> 전자 결제에 문제가 있는지 확인 필요"
      ]
    },
    {
      "cell_type": "markdown",
      "metadata": {
        "id": "GdMo7rKCmLiB"
      },
      "source": [
        "4. `Dependents`"
      ]
    },
    {
      "cell_type": "code",
      "metadata": {
        "colab": {
          "base_uri": "https://localhost:8080/",
          "height": 0
        },
        "id": "wGArrxsPmK9p",
        "outputId": "8e96c88e-65f5-4389-f17f-3b4856420e0b"
      },
      "source": [
        "chrun_to_dependents = df.groupby(['Churn', 'Dependents']).count()\n",
        "chrun_to_dependents = chrun_to_dependents.mean(axis=1).reset_index().rename(columns={0:'Counts'}).pivot_table(index='Dependents', columns='Churn', values='Counts')\n",
        "chrun_to_dependents['Ratio(%)'] = (chrun_to_dependents[1] / (chrun_to_dependents[0]+chrun_to_dependents[1]))*100\n",
        "chrun_to_dependents"
      ],
      "execution_count": 18,
      "outputs": [
        {
          "output_type": "execute_result",
          "data": {
            "text/html": [
              "<div>\n",
              "<style scoped>\n",
              "    .dataframe tbody tr th:only-of-type {\n",
              "        vertical-align: middle;\n",
              "    }\n",
              "\n",
              "    .dataframe tbody tr th {\n",
              "        vertical-align: top;\n",
              "    }\n",
              "\n",
              "    .dataframe thead th {\n",
              "        text-align: right;\n",
              "    }\n",
              "</style>\n",
              "<table border=\"1\" class=\"dataframe\">\n",
              "  <thead>\n",
              "    <tr style=\"text-align: right;\">\n",
              "      <th>Churn</th>\n",
              "      <th>0</th>\n",
              "      <th>1</th>\n",
              "      <th>Ratio(%)</th>\n",
              "    </tr>\n",
              "    <tr>\n",
              "      <th>Dependents</th>\n",
              "      <th></th>\n",
              "      <th></th>\n",
              "      <th></th>\n",
              "    </tr>\n",
              "  </thead>\n",
              "  <tbody>\n",
              "    <tr>\n",
              "      <th>No</th>\n",
              "      <td>3390.0</td>\n",
              "      <td>1543.0</td>\n",
              "      <td>31.279140</td>\n",
              "    </tr>\n",
              "    <tr>\n",
              "      <th>Yes</th>\n",
              "      <td>1784.0</td>\n",
              "      <td>326.0</td>\n",
              "      <td>15.450237</td>\n",
              "    </tr>\n",
              "  </tbody>\n",
              "</table>\n",
              "</div>"
            ],
            "text/plain": [
              "Churn            0       1   Ratio(%)\n",
              "Dependents                           \n",
              "No          3390.0  1543.0  31.279140\n",
              "Yes         1784.0   326.0  15.450237"
            ]
          },
          "metadata": {},
          "execution_count": 18
        }
      ]
    },
    {
      "cell_type": "code",
      "metadata": {
        "colab": {
          "base_uri": "https://localhost:8080/",
          "height": 0
        },
        "id": "04OmXmg9maZx",
        "outputId": "822d83c8-dfe8-4ecd-ef05-65b919b87fb3"
      },
      "source": [
        "sns.catplot(data=df.groupby(['Churn', 'Dependents']).count().mean(axis=1).reset_index().rename(columns={0:'Counts'}), kind='bar',\n",
        "            x='Dependents', y='Counts', hue='Churn');\n",
        "plt.show()"
      ],
      "execution_count": 19,
      "outputs": [
        {
          "output_type": "display_data",
          "data": {
            "image/png": "[encoded data removed]",
            "text/plain": [
              "<Figure size 402.375x360 with 1 Axes>"
            ]
          },
          "metadata": {
            "needs_background": "light"
          }
        }
      ]
    },
    {
      "cell_type": "markdown",
      "metadata": {
        "id": "kJLKXcF5mlj3"
      },
      "source": [
        "5. `SeniorCitizen`"
      ]
    },
    {
      "cell_type": "code",
      "metadata": {
        "colab": {
          "base_uri": "https://localhost:8080/",
          "height": 0
        },
        "id": "u7jFFCQEmqwt",
        "outputId": "7398afc9-bd12-4223-e8e3-493f0af7fc39"
      },
      "source": [
        "chrun_to_seniorcitizen = df.groupby(['Churn', 'SeniorCitizen']).count()\n",
        "chrun_to_seniorcitizen = chrun_to_seniorcitizen.mean(axis=1).reset_index().rename(columns={0:'Counts'}).pivot_table(index='SeniorCitizen', columns='Churn', values='Counts')\n",
        "chrun_to_seniorcitizen['Ratio(%)'] = (chrun_to_seniorcitizen[1] / (chrun_to_seniorcitizen[0]+chrun_to_seniorcitizen[1]))*100\n",
        "chrun_to_seniorcitizen"
      ],
      "execution_count": 20,
      "outputs": [
        {
          "output_type": "execute_result",
          "data": {
            "text/html": [
              "<div>\n",
              "<style scoped>\n",
              "    .dataframe tbody tr th:only-of-type {\n",
              "        vertical-align: middle;\n",
              "    }\n",
              "\n",
              "    .dataframe tbody tr th {\n",
              "        vertical-align: top;\n",
              "    }\n",
              "\n",
              "    .dataframe thead th {\n",
              "        text-align: right;\n",
              "    }\n",
              "</style>\n",
              "<table border=\"1\" class=\"dataframe\">\n",
              "  <thead>\n",
              "    <tr style=\"text-align: right;\">\n",
              "      <th>Churn</th>\n",
              "      <th>0</th>\n",
              "      <th>1</th>\n",
              "      <th>Ratio(%)</th>\n",
              "    </tr>\n",
              "    <tr>\n",
              "      <th>SeniorCitizen</th>\n",
              "      <th></th>\n",
              "      <th></th>\n",
              "      <th></th>\n",
              "    </tr>\n",
              "  </thead>\n",
              "  <tbody>\n",
              "    <tr>\n",
              "      <th>0</th>\n",
              "      <td>4508.0</td>\n",
              "      <td>1393.0</td>\n",
              "      <td>23.606168</td>\n",
              "    </tr>\n",
              "    <tr>\n",
              "      <th>1</th>\n",
              "      <td>666.0</td>\n",
              "      <td>476.0</td>\n",
              "      <td>41.681261</td>\n",
              "    </tr>\n",
              "  </tbody>\n",
              "</table>\n",
              "</div>"
            ],
            "text/plain": [
              "Churn               0       1   Ratio(%)\n",
              "SeniorCitizen                           \n",
              "0              4508.0  1393.0  23.606168\n",
              "1               666.0   476.0  41.681261"
            ]
          },
          "metadata": {},
          "execution_count": 20
        }
      ]
    },
    {
      "cell_type": "code",
      "metadata": {
        "colab": {
          "base_uri": "https://localhost:8080/",
          "height": 0
        },
        "id": "7OTBlPpZmqwt",
        "outputId": "493983d7-3a78-4cc9-b5f3-94a630aee3c5"
      },
      "source": [
        "sns.catplot(data=df.groupby(['Churn', 'SeniorCitizen']).count().mean(axis=1).reset_index().rename(columns={0:'Counts'}), kind='bar',\n",
        "            x='SeniorCitizen', y='Counts', hue='Churn');\n",
        "plt.show()"
      ],
      "execution_count": 21,
      "outputs": [
        {
          "output_type": "display_data",
          "data": {
            "image/png": "[encoded data removed]",
            "text/plain": [
              "<Figure size 402.375x360 with 1 Axes>"
            ]
          },
          "metadata": {
            "needs_background": "light"
          }
        }
      ]
    },
    {
      "cell_type": "markdown",
      "metadata": {
        "id": "iYYBu1otm4MR"
      },
      "source": [
        "노인 계층의 해지율이 매우 높다.\n",
        "> 노인을 위한 서비스 유무, 결제 등 기본적인 시스템을 이용하는데 불편함이 없는지 등 점검 필요"
      ]
    },
    {
      "cell_type": "markdown",
      "metadata": {
        "id": "EZN9c6L9nfbY"
      },
      "source": [
        "6. `gender`"
      ]
    },
    {
      "cell_type": "code",
      "metadata": {
        "colab": {
          "base_uri": "https://localhost:8080/",
          "height": 0
        },
        "id": "k6oHUTJfnhhh",
        "outputId": "fd8ef01b-e8a7-4372-d1bc-08e8dfa2085d"
      },
      "source": [
        "chrun_to_gender = df.groupby(['Churn', 'gender']).count()\n",
        "chrun_to_gender = chrun_to_gender.mean(axis=1).reset_index().rename(columns={0:'Counts'}).pivot_table(index='gender', columns='Churn', values='Counts')\n",
        "chrun_to_gender['Ratio(%)'] = (chrun_to_gender[1] / (chrun_to_gender[0]+chrun_to_gender[1]))*100\n",
        "chrun_to_gender"
      ],
      "execution_count": 22,
      "outputs": [
        {
          "output_type": "execute_result",
          "data": {
            "text/html": [
              "<div>\n",
              "<style scoped>\n",
              "    .dataframe tbody tr th:only-of-type {\n",
              "        vertical-align: middle;\n",
              "    }\n",
              "\n",
              "    .dataframe tbody tr th {\n",
              "        vertical-align: top;\n",
              "    }\n",
              "\n",
              "    .dataframe thead th {\n",
              "        text-align: right;\n",
              "    }\n",
              "</style>\n",
              "<table border=\"1\" class=\"dataframe\">\n",
              "  <thead>\n",
              "    <tr style=\"text-align: right;\">\n",
              "      <th>Churn</th>\n",
              "      <th>0</th>\n",
              "      <th>1</th>\n",
              "      <th>Ratio(%)</th>\n",
              "    </tr>\n",
              "    <tr>\n",
              "      <th>gender</th>\n",
              "      <th></th>\n",
              "      <th></th>\n",
              "      <th></th>\n",
              "    </tr>\n",
              "  </thead>\n",
              "  <tbody>\n",
              "    <tr>\n",
              "      <th>Female</th>\n",
              "      <td>2549.0</td>\n",
              "      <td>939.0</td>\n",
              "      <td>26.920872</td>\n",
              "    </tr>\n",
              "    <tr>\n",
              "      <th>Male</th>\n",
              "      <td>2625.0</td>\n",
              "      <td>930.0</td>\n",
              "      <td>26.160338</td>\n",
              "    </tr>\n",
              "  </tbody>\n",
              "</table>\n",
              "</div>"
            ],
            "text/plain": [
              "Churn        0      1   Ratio(%)\n",
              "gender                          \n",
              "Female  2549.0  939.0  26.920872\n",
              "Male    2625.0  930.0  26.160338"
            ]
          },
          "metadata": {},
          "execution_count": 22
        }
      ]
    },
    {
      "cell_type": "code",
      "metadata": {
        "colab": {
          "base_uri": "https://localhost:8080/",
          "height": 0
        },
        "id": "XDd0FimxnoPM",
        "outputId": "fb1d6c27-6035-4b31-acc7-63f7ed351844"
      },
      "source": [
        "sns.catplot(data=df.groupby(['Churn', 'gender']).count().mean(axis=1).reset_index().rename(columns={0:'Counts'}), kind='bar',\n",
        "            x='gender', y='Counts', hue='Churn');\n",
        "plt.show()"
      ],
      "execution_count": 23,
      "outputs": [
        {
          "output_type": "display_data",
          "data": {
            "image/png": "[encoded data removed]",
            "text/plain": [
              "<Figure size 402.375x360 with 1 Axes>"
            ]
          },
          "metadata": {
            "needs_background": "light"
          }
        }
      ]
    },
    {
      "cell_type": "markdown",
      "metadata": {
        "id": "XouWIGEzntL6"
      },
      "source": [
        "해지율에 성별은 영향이 없다."
      ]
    },
    {
      "cell_type": "markdown",
      "metadata": {
        "id": "6k5M331R9MCg"
      },
      "source": [
        "### 2) 새로 특징들을 만들어 보세요\n",
        "- 여러분이 선택한 데이터에서 특징 공학을 수행해 보세요.\n",
        "- **(다중선택) purchase_data를 랭글링하여 다음 조건을 계산하고 결과가 올바른 항목만 과제 제출폼에 제출하세요.**\n",
        "    1. 나이 1-20세 그룹(20세 포함)의 평균 Price는 3.101818이다.\n",
        "    2. 나이 21-50세 그룹의 평균 Price는 3.021559이다.\n",
        "    3. 가장 많이 구입한 아이템의 ID는 178 이다.\n",
        "    4. 두번째로 매출을 많이 낸 아이템 ID는 145이다."
      ]
    },
    {
      "cell_type": "markdown",
      "metadata": {
        "id": "JI93oDGqa1o9"
      },
      "source": [
        "#### 제출 과제"
      ]
    },
    {
      "cell_type": "code",
      "metadata": {
        "colab": {
          "base_uri": "https://localhost:8080/",
          "height": 450
        },
        "id": "Qem59-vpLDKp",
        "outputId": "ae6e1b93-9938-46d5-97a1-79fa05917182"
      },
      "source": [
        "df_a"
      ],
      "execution_count": 24,
      "outputs": [
        {
          "output_type": "execute_result",
          "data": {
            "text/html": [
              "<div>\n",
              "<style scoped>\n",
              "    .dataframe tbody tr th:only-of-type {\n",
              "        vertical-align: middle;\n",
              "    }\n",
              "\n",
              "    .dataframe tbody tr th {\n",
              "        vertical-align: top;\n",
              "    }\n",
              "\n",
              "    .dataframe thead th {\n",
              "        text-align: right;\n",
              "    }\n",
              "</style>\n",
              "<table border=\"1\" class=\"dataframe\">\n",
              "  <thead>\n",
              "    <tr style=\"text-align: right;\">\n",
              "      <th></th>\n",
              "      <th>SN</th>\n",
              "      <th>Age</th>\n",
              "      <th>Gender</th>\n",
              "      <th>Item ID</th>\n",
              "      <th>Item Name</th>\n",
              "      <th>Price</th>\n",
              "    </tr>\n",
              "    <tr>\n",
              "      <th>Purchase ID</th>\n",
              "      <th></th>\n",
              "      <th></th>\n",
              "      <th></th>\n",
              "      <th></th>\n",
              "      <th></th>\n",
              "      <th></th>\n",
              "    </tr>\n",
              "  </thead>\n",
              "  <tbody>\n",
              "    <tr>\n",
              "      <th>0</th>\n",
              "      <td>Lisim78</td>\n",
              "      <td>20</td>\n",
              "      <td>Male</td>\n",
              "      <td>108</td>\n",
              "      <td>Extraction, Quickblade Of Trembling Hands</td>\n",
              "      <td>3.53</td>\n",
              "    </tr>\n",
              "    <tr>\n",
              "      <th>1</th>\n",
              "      <td>Lisovynya38</td>\n",
              "      <td>40</td>\n",
              "      <td>Male</td>\n",
              "      <td>143</td>\n",
              "      <td>Frenzied Scimitar</td>\n",
              "      <td>1.56</td>\n",
              "    </tr>\n",
              "    <tr>\n",
              "      <th>2</th>\n",
              "      <td>Ithergue48</td>\n",
              "      <td>24</td>\n",
              "      <td>Male</td>\n",
              "      <td>92</td>\n",
              "      <td>Final Critic</td>\n",
              "      <td>4.88</td>\n",
              "    </tr>\n",
              "    <tr>\n",
              "      <th>3</th>\n",
              "      <td>Chamassasya86</td>\n",
              "      <td>24</td>\n",
              "      <td>Male</td>\n",
              "      <td>100</td>\n",
              "      <td>Blindscythe</td>\n",
              "      <td>3.27</td>\n",
              "    </tr>\n",
              "    <tr>\n",
              "      <th>4</th>\n",
              "      <td>Iskosia90</td>\n",
              "      <td>23</td>\n",
              "      <td>Male</td>\n",
              "      <td>131</td>\n",
              "      <td>Fury</td>\n",
              "      <td>1.44</td>\n",
              "    </tr>\n",
              "    <tr>\n",
              "      <th>...</th>\n",
              "      <td>...</td>\n",
              "      <td>...</td>\n",
              "      <td>...</td>\n",
              "      <td>...</td>\n",
              "      <td>...</td>\n",
              "      <td>...</td>\n",
              "    </tr>\n",
              "    <tr>\n",
              "      <th>775</th>\n",
              "      <td>Aethedru70</td>\n",
              "      <td>21</td>\n",
              "      <td>Female</td>\n",
              "      <td>60</td>\n",
              "      <td>Wolf</td>\n",
              "      <td>3.54</td>\n",
              "    </tr>\n",
              "    <tr>\n",
              "      <th>776</th>\n",
              "      <td>Iral74</td>\n",
              "      <td>21</td>\n",
              "      <td>Male</td>\n",
              "      <td>164</td>\n",
              "      <td>Exiled Doomblade</td>\n",
              "      <td>1.63</td>\n",
              "    </tr>\n",
              "    <tr>\n",
              "      <th>777</th>\n",
              "      <td>Yathecal72</td>\n",
              "      <td>20</td>\n",
              "      <td>Male</td>\n",
              "      <td>67</td>\n",
              "      <td>Celeste, Incarnation of the Corrupted</td>\n",
              "      <td>3.46</td>\n",
              "    </tr>\n",
              "    <tr>\n",
              "      <th>778</th>\n",
              "      <td>Sisur91</td>\n",
              "      <td>7</td>\n",
              "      <td>Male</td>\n",
              "      <td>101</td>\n",
              "      <td>Final Critic</td>\n",
              "      <td>4.19</td>\n",
              "    </tr>\n",
              "    <tr>\n",
              "      <th>779</th>\n",
              "      <td>Ennrian78</td>\n",
              "      <td>24</td>\n",
              "      <td>Male</td>\n",
              "      <td>50</td>\n",
              "      <td>Dawn</td>\n",
              "      <td>4.60</td>\n",
              "    </tr>\n",
              "  </tbody>\n",
              "</table>\n",
              "<p>780 rows × 6 columns</p>\n",
              "</div>"
            ],
            "text/plain": [
              "                        SN  ...  Price\n",
              "Purchase ID                 ...       \n",
              "0                  Lisim78  ...   3.53\n",
              "1              Lisovynya38  ...   1.56\n",
              "2               Ithergue48  ...   4.88\n",
              "3            Chamassasya86  ...   3.27\n",
              "4                Iskosia90  ...   1.44\n",
              "...                    ...  ...    ...\n",
              "775             Aethedru70  ...   3.54\n",
              "776                 Iral74  ...   1.63\n",
              "777             Yathecal72  ...   3.46\n",
              "778                Sisur91  ...   4.19\n",
              "779              Ennrian78  ...   4.60\n",
              "\n",
              "[780 rows x 6 columns]"
            ]
          },
          "metadata": {},
          "execution_count": 24
        }
      ]
    },
    {
      "cell_type": "code",
      "metadata": {
        "id": "6k91k3kH9MCh",
        "colab": {
          "base_uri": "https://localhost:8080/"
        },
        "outputId": "543e1d38-4691-40d8-8573-84efefdb8238"
      },
      "source": [
        "### 이곳에서 제출폼 과제를 진행해 주세요 ###\n",
        "# 그룹별 Price 평균\n",
        "g1 = df_a[df_a['Age'] <= 20]\n",
        "averageP_g1 = g1['Price'].mean()\n",
        "\n",
        "print('1번:', averageP_g1)\n",
        "\n",
        "g2 = df_a[(df_a['Age'] > 20) & (df_a['Age'] <= 50)]\n",
        "averageP_g2 = g2['Price'].mean()\n",
        "\n",
        "print('2번:', averageP_g2)\n",
        "\n",
        "\n",
        "# 판매수 상위 Item ID\n",
        "top_count_list = df_a['Item ID'].value_counts().sort_values(ascending=False).index.tolist()\n",
        "best_count_ID = top_count_list[0]\n",
        "\n",
        "print('3번:', best_count_ID)\n",
        "\n",
        "\n",
        "# 매출 상위 Item IDs\n",
        "top_sales_list = df_a.groupby('Item ID').sum().sort_values(by='Price', ascending=False).index.tolist()\n",
        "second_top_ID = top_sales_list[1]\n",
        "\n",
        "print('4번:', second_top_ID)\n"
      ],
      "execution_count": 25,
      "outputs": [
        {
          "output_type": "stream",
          "text": [
            "1번: 3.101818181818184\n",
            "2번: 3.0215587044534415\n",
            "3번: 178\n",
            "4번: 82\n"
          ],
          "name": "stdout"
        }
      ]
    },
    {
      "cell_type": "markdown",
      "metadata": {
        "id": "fPCpDc48Zcnv"
      },
      "source": [
        "- 답: 1, 2, 3"
      ]
    },
    {
      "cell_type": "markdown",
      "metadata": {
        "id": "45VbJWb9a3rN"
      },
      "source": [
        "#### 포트폴리오 데이터 특성 공학"
      ]
    },
    {
      "cell_type": "markdown",
      "metadata": {
        "id": "ZZsQBJOrpHsC"
      },
      "source": [
        "1. `tenure`, `MonthlyCharges`로 등급 나누기\n",
        "\n"
      ]
    },
    {
      "cell_type": "code",
      "metadata": {
        "id": "mKpLFyoa9MCj"
      },
      "source": [
        "# MinMaxScaler\n",
        "# scaler 참고 : https://mkjjo.github.io/python/2019/01/10/scaler.html\n",
        "from sklearn.preprocessing import MinMaxScaler\n",
        "sclr = MinMaxScaler(feature_range=(1,10))\n",
        "sclr.fit(df[['tenure', 'MonthlyCharges']])\n",
        "df[['tenure_scld', 'MonthlyCharges_scld']] = sclr.transform(df[['tenure', 'MonthlyCharges']])"
      ],
      "execution_count": 26,
      "outputs": []
    },
    {
      "cell_type": "code",
      "metadata": {
        "colab": {
          "base_uri": "https://localhost:8080/",
          "height": 0
        },
        "id": "WigE42rArcZ6",
        "outputId": "bc98633e-04cc-4763-c634-b472ce461a24"
      },
      "source": [
        "df[['tenure','tenure_scld', 'MonthlyCharges', 'MonthlyCharges_scld']]"
      ],
      "execution_count": 27,
      "outputs": [
        {
          "output_type": "execute_result",
          "data": {
            "text/html": [
              "<div>\n",
              "<style scoped>\n",
              "    .dataframe tbody tr th:only-of-type {\n",
              "        vertical-align: middle;\n",
              "    }\n",
              "\n",
              "    .dataframe tbody tr th {\n",
              "        vertical-align: top;\n",
              "    }\n",
              "\n",
              "    .dataframe thead th {\n",
              "        text-align: right;\n",
              "    }\n",
              "</style>\n",
              "<table border=\"1\" class=\"dataframe\">\n",
              "  <thead>\n",
              "    <tr style=\"text-align: right;\">\n",
              "      <th></th>\n",
              "      <th>tenure</th>\n",
              "      <th>tenure_scld</th>\n",
              "      <th>MonthlyCharges</th>\n",
              "      <th>MonthlyCharges_scld</th>\n",
              "    </tr>\n",
              "  </thead>\n",
              "  <tbody>\n",
              "    <tr>\n",
              "      <th>0</th>\n",
              "      <td>1</td>\n",
              "      <td>1.125</td>\n",
              "      <td>29.85</td>\n",
              "      <td>2.038806</td>\n",
              "    </tr>\n",
              "    <tr>\n",
              "      <th>1</th>\n",
              "      <td>34</td>\n",
              "      <td>5.250</td>\n",
              "      <td>56.95</td>\n",
              "      <td>4.465672</td>\n",
              "    </tr>\n",
              "    <tr>\n",
              "      <th>2</th>\n",
              "      <td>2</td>\n",
              "      <td>1.250</td>\n",
              "      <td>53.85</td>\n",
              "      <td>4.188060</td>\n",
              "    </tr>\n",
              "    <tr>\n",
              "      <th>3</th>\n",
              "      <td>45</td>\n",
              "      <td>6.625</td>\n",
              "      <td>42.30</td>\n",
              "      <td>3.153731</td>\n",
              "    </tr>\n",
              "    <tr>\n",
              "      <th>4</th>\n",
              "      <td>2</td>\n",
              "      <td>1.250</td>\n",
              "      <td>70.70</td>\n",
              "      <td>5.697015</td>\n",
              "    </tr>\n",
              "    <tr>\n",
              "      <th>...</th>\n",
              "      <td>...</td>\n",
              "      <td>...</td>\n",
              "      <td>...</td>\n",
              "      <td>...</td>\n",
              "    </tr>\n",
              "    <tr>\n",
              "      <th>7038</th>\n",
              "      <td>24</td>\n",
              "      <td>4.000</td>\n",
              "      <td>84.80</td>\n",
              "      <td>6.959701</td>\n",
              "    </tr>\n",
              "    <tr>\n",
              "      <th>7039</th>\n",
              "      <td>72</td>\n",
              "      <td>10.000</td>\n",
              "      <td>103.20</td>\n",
              "      <td>8.607463</td>\n",
              "    </tr>\n",
              "    <tr>\n",
              "      <th>7040</th>\n",
              "      <td>11</td>\n",
              "      <td>2.375</td>\n",
              "      <td>29.60</td>\n",
              "      <td>2.016418</td>\n",
              "    </tr>\n",
              "    <tr>\n",
              "      <th>7041</th>\n",
              "      <td>4</td>\n",
              "      <td>1.500</td>\n",
              "      <td>74.40</td>\n",
              "      <td>6.028358</td>\n",
              "    </tr>\n",
              "    <tr>\n",
              "      <th>7042</th>\n",
              "      <td>66</td>\n",
              "      <td>9.250</td>\n",
              "      <td>105.65</td>\n",
              "      <td>8.826866</td>\n",
              "    </tr>\n",
              "  </tbody>\n",
              "</table>\n",
              "<p>7043 rows × 4 columns</p>\n",
              "</div>"
            ],
            "text/plain": [
              "      tenure  tenure_scld  MonthlyCharges  MonthlyCharges_scld\n",
              "0          1        1.125           29.85             2.038806\n",
              "1         34        5.250           56.95             4.465672\n",
              "2          2        1.250           53.85             4.188060\n",
              "3         45        6.625           42.30             3.153731\n",
              "4          2        1.250           70.70             5.697015\n",
              "...      ...          ...             ...                  ...\n",
              "7038      24        4.000           84.80             6.959701\n",
              "7039      72       10.000          103.20             8.607463\n",
              "7040      11        2.375           29.60             2.016418\n",
              "7041       4        1.500           74.40             6.028358\n",
              "7042      66        9.250          105.65             8.826866\n",
              "\n",
              "[7043 rows x 4 columns]"
            ]
          },
          "metadata": {},
          "execution_count": 27
        }
      ]
    },
    {
      "cell_type": "code",
      "metadata": {
        "colab": {
          "base_uri": "https://localhost:8080/",
          "height": 0
        },
        "id": "-iA1MYkCrvuD",
        "outputId": "2d9dc9f9-372f-46cb-cb1e-8d0f2d107571"
      },
      "source": [
        "df[['tenure','tenure_scld', 'MonthlyCharges', 'MonthlyCharges_scld']].describe()"
      ],
      "execution_count": 28,
      "outputs": [
        {
          "output_type": "execute_result",
          "data": {
            "text/html": [
              "<div>\n",
              "<style scoped>\n",
              "    .dataframe tbody tr th:only-of-type {\n",
              "        vertical-align: middle;\n",
              "    }\n",
              "\n",
              "    .dataframe tbody tr th {\n",
              "        vertical-align: top;\n",
              "    }\n",
              "\n",
              "    .dataframe thead th {\n",
              "        text-align: right;\n",
              "    }\n",
              "</style>\n",
              "<table border=\"1\" class=\"dataframe\">\n",
              "  <thead>\n",
              "    <tr style=\"text-align: right;\">\n",
              "      <th></th>\n",
              "      <th>tenure</th>\n",
              "      <th>tenure_scld</th>\n",
              "      <th>MonthlyCharges</th>\n",
              "      <th>MonthlyCharges_scld</th>\n",
              "    </tr>\n",
              "  </thead>\n",
              "  <tbody>\n",
              "    <tr>\n",
              "      <th>count</th>\n",
              "      <td>7043.000000</td>\n",
              "      <td>7043.000000</td>\n",
              "      <td>7043.000000</td>\n",
              "      <td>7043.000000</td>\n",
              "    </tr>\n",
              "    <tr>\n",
              "      <th>mean</th>\n",
              "      <td>32.371149</td>\n",
              "      <td>5.046394</td>\n",
              "      <td>64.761692</td>\n",
              "      <td>5.165226</td>\n",
              "    </tr>\n",
              "    <tr>\n",
              "      <th>std</th>\n",
              "      <td>24.559481</td>\n",
              "      <td>3.069935</td>\n",
              "      <td>30.090047</td>\n",
              "      <td>2.694631</td>\n",
              "    </tr>\n",
              "    <tr>\n",
              "      <th>min</th>\n",
              "      <td>0.000000</td>\n",
              "      <td>1.000000</td>\n",
              "      <td>18.250000</td>\n",
              "      <td>1.000000</td>\n",
              "    </tr>\n",
              "    <tr>\n",
              "      <th>25%</th>\n",
              "      <td>9.000000</td>\n",
              "      <td>2.125000</td>\n",
              "      <td>35.500000</td>\n",
              "      <td>2.544776</td>\n",
              "    </tr>\n",
              "    <tr>\n",
              "      <th>50%</th>\n",
              "      <td>29.000000</td>\n",
              "      <td>4.625000</td>\n",
              "      <td>70.350000</td>\n",
              "      <td>5.665672</td>\n",
              "    </tr>\n",
              "    <tr>\n",
              "      <th>75%</th>\n",
              "      <td>55.000000</td>\n",
              "      <td>7.875000</td>\n",
              "      <td>89.850000</td>\n",
              "      <td>7.411940</td>\n",
              "    </tr>\n",
              "    <tr>\n",
              "      <th>max</th>\n",
              "      <td>72.000000</td>\n",
              "      <td>10.000000</td>\n",
              "      <td>118.750000</td>\n",
              "      <td>10.000000</td>\n",
              "    </tr>\n",
              "  </tbody>\n",
              "</table>\n",
              "</div>"
            ],
            "text/plain": [
              "            tenure  tenure_scld  MonthlyCharges  MonthlyCharges_scld\n",
              "count  7043.000000  7043.000000     7043.000000          7043.000000\n",
              "mean     32.371149     5.046394       64.761692             5.165226\n",
              "std      24.559481     3.069935       30.090047             2.694631\n",
              "min       0.000000     1.000000       18.250000             1.000000\n",
              "25%       9.000000     2.125000       35.500000             2.544776\n",
              "50%      29.000000     4.625000       70.350000             5.665672\n",
              "75%      55.000000     7.875000       89.850000             7.411940\n",
              "max      72.000000    10.000000      118.750000            10.000000"
            ]
          },
          "metadata": {},
          "execution_count": 28
        }
      ]
    },
    {
      "cell_type": "code",
      "metadata": {
        "id": "sCmfNWlJssXr"
      },
      "source": [
        "# EDA의 상관관계에서 tenure과 MonthlyCharges의 비율이 약 3:2이므로 이를 반영하여 점수를 계산한다\n",
        "df['s_score'] = 0.6 * df['tenure_scld'] + 0.4 * df['MonthlyCharges_scld']"
      ],
      "execution_count": 29,
      "outputs": []
    },
    {
      "cell_type": "code",
      "metadata": {
        "colab": {
          "base_uri": "https://localhost:8080/"
        },
        "id": "na_av6ktuewl",
        "outputId": "e895b8b2-0f0d-4886-d34b-f53c6bb17d8f"
      },
      "source": [
        "df['s_score'].describe()"
      ],
      "execution_count": 30,
      "outputs": [
        {
          "output_type": "execute_result",
          "data": {
            "text/plain": [
              "count    7043.000000\n",
              "mean        5.093927\n",
              "std         2.353493\n",
              "min         1.051940\n",
              "25%         3.217537\n",
              "50%         4.876716\n",
              "75%         6.934627\n",
              "max        10.000000\n",
              "Name: s_score, dtype: float64"
            ]
          },
          "metadata": {},
          "execution_count": 30
        }
      ]
    },
    {
      "cell_type": "code",
      "metadata": {
        "id": "jE41ez_nudfP"
      },
      "source": [
        "# 전체 데이터를 5등분해 등급을 나눈다\n",
        "df['s_grade'] = pd.qcut(df['s_score'], 5, labels=['E', 'D', 'C', 'B', 'A'])"
      ],
      "execution_count": 31,
      "outputs": []
    },
    {
      "cell_type": "code",
      "metadata": {
        "colab": {
          "base_uri": "https://localhost:8080/",
          "height": 0
        },
        "id": "Lo7pgYefxfIc",
        "outputId": "bd4033f5-99da-4797-eced-6d01dde958e4"
      },
      "source": [
        "chrun_to_sgrade = df.groupby(['Churn', 's_grade']).count()\n",
        "chrun_to_sgrade= chrun_to_sgrade.mean(axis=1).reset_index().rename(columns={0:'Counts'}).pivot_table(index='s_grade', columns='Churn', values = 'Counts')\n",
        "chrun_to_sgrade['Ratio(%)'] = (chrun_to_sgrade[1] / (chrun_to_sgrade[0]+chrun_to_sgrade[1]))*100\n",
        "chrun_to_sgrade.sort_values('Ratio(%)', ascending=False)"
      ],
      "execution_count": 32,
      "outputs": [
        {
          "output_type": "execute_result",
          "data": {
            "text/html": [
              "<div>\n",
              "<style scoped>\n",
              "    .dataframe tbody tr th:only-of-type {\n",
              "        vertical-align: middle;\n",
              "    }\n",
              "\n",
              "    .dataframe tbody tr th {\n",
              "        vertical-align: top;\n",
              "    }\n",
              "\n",
              "    .dataframe thead th {\n",
              "        text-align: right;\n",
              "    }\n",
              "</style>\n",
              "<table border=\"1\" class=\"dataframe\">\n",
              "  <thead>\n",
              "    <tr style=\"text-align: right;\">\n",
              "      <th>Churn</th>\n",
              "      <th>0</th>\n",
              "      <th>1</th>\n",
              "      <th>Ratio(%)</th>\n",
              "    </tr>\n",
              "    <tr>\n",
              "      <th>s_grade</th>\n",
              "      <th></th>\n",
              "      <th></th>\n",
              "      <th></th>\n",
              "    </tr>\n",
              "  </thead>\n",
              "  <tbody>\n",
              "    <tr>\n",
              "      <th>D</th>\n",
              "      <td>812.0</td>\n",
              "      <td>594.0</td>\n",
              "      <td>42.247511</td>\n",
              "    </tr>\n",
              "    <tr>\n",
              "      <th>E</th>\n",
              "      <td>994.0</td>\n",
              "      <td>417.0</td>\n",
              "      <td>29.553508</td>\n",
              "    </tr>\n",
              "    <tr>\n",
              "      <th>C</th>\n",
              "      <td>995.0</td>\n",
              "      <td>414.0</td>\n",
              "      <td>29.382541</td>\n",
              "    </tr>\n",
              "    <tr>\n",
              "      <th>B</th>\n",
              "      <td>1143.0</td>\n",
              "      <td>265.0</td>\n",
              "      <td>18.821023</td>\n",
              "    </tr>\n",
              "    <tr>\n",
              "      <th>A</th>\n",
              "      <td>1230.0</td>\n",
              "      <td>179.0</td>\n",
              "      <td>12.704045</td>\n",
              "    </tr>\n",
              "  </tbody>\n",
              "</table>\n",
              "</div>"
            ],
            "text/plain": [
              "Churn         0      1   Ratio(%)\n",
              "s_grade                          \n",
              "D         812.0  594.0  42.247511\n",
              "E         994.0  417.0  29.553508\n",
              "C         995.0  414.0  29.382541\n",
              "B        1143.0  265.0  18.821023\n",
              "A        1230.0  179.0  12.704045"
            ]
          },
          "metadata": {},
          "execution_count": 32
        }
      ]
    },
    {
      "cell_type": "code",
      "metadata": {
        "colab": {
          "base_uri": "https://localhost:8080/",
          "height": 0
        },
        "id": "PLVV1ZCpxX65",
        "outputId": "72007fbe-49e2-4061-97fc-2f324a49fbb5"
      },
      "source": [
        "import seaborn as sns\n",
        "sns.catplot(data=df.groupby(['Churn', 's_grade']).count().mean(axis=1).reset_index().rename(columns={0:'Counts'}), kind='bar',\n",
        "            x='s_grade', y='Counts', hue='Churn');\n",
        "plt.show()"
      ],
      "execution_count": 33,
      "outputs": [
        {
          "output_type": "display_data",
          "data": {
            "image/png": "[encoded data removed]",
            "text/plain": [
              "<Figure size 402.375x360 with 1 Axes>"
            ]
          },
          "metadata": {
            "needs_background": "light"
          }
        }
      ]
    },
    {
      "cell_type": "code",
      "metadata": {
        "id": "06mMc4Ty2VaR"
      },
      "source": [
        "# 신규 고객인지 아닌지에 대한 feature 추가\n",
        "df['NewCustomer'] = (df['tenure'] == 0).astype(int)"
      ],
      "execution_count": 34,
      "outputs": []
    },
    {
      "cell_type": "code",
      "metadata": {
        "id": "1N3ibVAh2-tP"
      },
      "source": [
        "# 필요 없는 칼럼 없애기\n",
        "df.drop(['tenure_scld', 'MonthlyCharges_scld', 'tenure', 'MonthlyCharges', 's_score'], axis=1, inplace=True)"
      ],
      "execution_count": 35,
      "outputs": []
    },
    {
      "cell_type": "markdown",
      "metadata": {
        "id": "MeOB2ws69MCl"
      },
      "source": [
        "## 🔥 도전과제"
      ]
    },
    {
      "cell_type": "markdown",
      "metadata": {
        "id": "9g9AeshN9MCm"
      },
      "source": [
        "### 3) 조금 부족하더라도 최소한의 랭글링으로 데이터를 준비하여 간단한 모델을 학습시켜 보세요\n",
        "- 여러분들이 선택한 데이터를 가지고 간단한 모델을 학습하고 결과를 리포팅 합니다."
      ]
    },
    {
      "cell_type": "code",
      "metadata": {
        "id": "ALUjtlzZ9MCo",
        "colab": {
          "base_uri": "https://localhost:8080/",
          "height": 575
        },
        "outputId": "287ced41-5cb1-4bde-9da1-cdf70203fd24"
      },
      "source": [
        "# wrangling 과정을 거친 데이터셋 \n",
        "df"
      ],
      "execution_count": 36,
      "outputs": [
        {
          "output_type": "execute_result",
          "data": {
            "text/html": [
              "<div>\n",
              "<style scoped>\n",
              "    .dataframe tbody tr th:only-of-type {\n",
              "        vertical-align: middle;\n",
              "    }\n",
              "\n",
              "    .dataframe tbody tr th {\n",
              "        vertical-align: top;\n",
              "    }\n",
              "\n",
              "    .dataframe thead th {\n",
              "        text-align: right;\n",
              "    }\n",
              "</style>\n",
              "<table border=\"1\" class=\"dataframe\">\n",
              "  <thead>\n",
              "    <tr style=\"text-align: right;\">\n",
              "      <th></th>\n",
              "      <th>gender</th>\n",
              "      <th>SeniorCitizen</th>\n",
              "      <th>Partner</th>\n",
              "      <th>Dependents</th>\n",
              "      <th>PhoneService</th>\n",
              "      <th>MultipleLines</th>\n",
              "      <th>InternetService</th>\n",
              "      <th>OnlineSecurity</th>\n",
              "      <th>OnlineBackup</th>\n",
              "      <th>DeviceProtection</th>\n",
              "      <th>TechSupport</th>\n",
              "      <th>StreamingTV</th>\n",
              "      <th>StreamingMovies</th>\n",
              "      <th>Contract</th>\n",
              "      <th>PaperlessBilling</th>\n",
              "      <th>PaymentMethod</th>\n",
              "      <th>TotalCharges</th>\n",
              "      <th>Churn</th>\n",
              "      <th>s_grade</th>\n",
              "      <th>NewCustomer</th>\n",
              "    </tr>\n",
              "  </thead>\n",
              "  <tbody>\n",
              "    <tr>\n",
              "      <th>0</th>\n",
              "      <td>Female</td>\n",
              "      <td>0</td>\n",
              "      <td>Yes</td>\n",
              "      <td>No</td>\n",
              "      <td>No</td>\n",
              "      <td>No phone service</td>\n",
              "      <td>DSL</td>\n",
              "      <td>No</td>\n",
              "      <td>Yes</td>\n",
              "      <td>No</td>\n",
              "      <td>No</td>\n",
              "      <td>No</td>\n",
              "      <td>No</td>\n",
              "      <td>Month-to-month</td>\n",
              "      <td>Yes</td>\n",
              "      <td>Electronic check</td>\n",
              "      <td>29.85</td>\n",
              "      <td>0</td>\n",
              "      <td>E</td>\n",
              "      <td>0</td>\n",
              "    </tr>\n",
              "    <tr>\n",
              "      <th>1</th>\n",
              "      <td>Male</td>\n",
              "      <td>0</td>\n",
              "      <td>No</td>\n",
              "      <td>No</td>\n",
              "      <td>Yes</td>\n",
              "      <td>No</td>\n",
              "      <td>DSL</td>\n",
              "      <td>Yes</td>\n",
              "      <td>No</td>\n",
              "      <td>Yes</td>\n",
              "      <td>No</td>\n",
              "      <td>No</td>\n",
              "      <td>No</td>\n",
              "      <td>One year</td>\n",
              "      <td>No</td>\n",
              "      <td>Mailed check</td>\n",
              "      <td>1889.50</td>\n",
              "      <td>0</td>\n",
              "      <td>C</td>\n",
              "      <td>0</td>\n",
              "    </tr>\n",
              "    <tr>\n",
              "      <th>2</th>\n",
              "      <td>Male</td>\n",
              "      <td>0</td>\n",
              "      <td>No</td>\n",
              "      <td>No</td>\n",
              "      <td>Yes</td>\n",
              "      <td>No</td>\n",
              "      <td>DSL</td>\n",
              "      <td>Yes</td>\n",
              "      <td>Yes</td>\n",
              "      <td>No</td>\n",
              "      <td>No</td>\n",
              "      <td>No</td>\n",
              "      <td>No</td>\n",
              "      <td>Month-to-month</td>\n",
              "      <td>Yes</td>\n",
              "      <td>Mailed check</td>\n",
              "      <td>108.15</td>\n",
              "      <td>1</td>\n",
              "      <td>E</td>\n",
              "      <td>0</td>\n",
              "    </tr>\n",
              "    <tr>\n",
              "      <th>3</th>\n",
              "      <td>Male</td>\n",
              "      <td>0</td>\n",
              "      <td>No</td>\n",
              "      <td>No</td>\n",
              "      <td>No</td>\n",
              "      <td>No phone service</td>\n",
              "      <td>DSL</td>\n",
              "      <td>Yes</td>\n",
              "      <td>No</td>\n",
              "      <td>Yes</td>\n",
              "      <td>Yes</td>\n",
              "      <td>No</td>\n",
              "      <td>No</td>\n",
              "      <td>One year</td>\n",
              "      <td>No</td>\n",
              "      <td>Bank transfer (automatic)</td>\n",
              "      <td>1840.75</td>\n",
              "      <td>0</td>\n",
              "      <td>C</td>\n",
              "      <td>0</td>\n",
              "    </tr>\n",
              "    <tr>\n",
              "      <th>4</th>\n",
              "      <td>Female</td>\n",
              "      <td>0</td>\n",
              "      <td>No</td>\n",
              "      <td>No</td>\n",
              "      <td>Yes</td>\n",
              "      <td>No</td>\n",
              "      <td>Fiber optic</td>\n",
              "      <td>No</td>\n",
              "      <td>No</td>\n",
              "      <td>No</td>\n",
              "      <td>No</td>\n",
              "      <td>No</td>\n",
              "      <td>No</td>\n",
              "      <td>Month-to-month</td>\n",
              "      <td>Yes</td>\n",
              "      <td>Electronic check</td>\n",
              "      <td>151.65</td>\n",
              "      <td>1</td>\n",
              "      <td>D</td>\n",
              "      <td>0</td>\n",
              "    </tr>\n",
              "    <tr>\n",
              "      <th>...</th>\n",
              "      <td>...</td>\n",
              "      <td>...</td>\n",
              "      <td>...</td>\n",
              "      <td>...</td>\n",
              "      <td>...</td>\n",
              "      <td>...</td>\n",
              "      <td>...</td>\n",
              "      <td>...</td>\n",
              "      <td>...</td>\n",
              "      <td>...</td>\n",
              "      <td>...</td>\n",
              "      <td>...</td>\n",
              "      <td>...</td>\n",
              "      <td>...</td>\n",
              "      <td>...</td>\n",
              "      <td>...</td>\n",
              "      <td>...</td>\n",
              "      <td>...</td>\n",
              "      <td>...</td>\n",
              "      <td>...</td>\n",
              "    </tr>\n",
              "    <tr>\n",
              "      <th>7038</th>\n",
              "      <td>Male</td>\n",
              "      <td>0</td>\n",
              "      <td>Yes</td>\n",
              "      <td>Yes</td>\n",
              "      <td>Yes</td>\n",
              "      <td>Yes</td>\n",
              "      <td>DSL</td>\n",
              "      <td>Yes</td>\n",
              "      <td>No</td>\n",
              "      <td>Yes</td>\n",
              "      <td>Yes</td>\n",
              "      <td>Yes</td>\n",
              "      <td>Yes</td>\n",
              "      <td>One year</td>\n",
              "      <td>Yes</td>\n",
              "      <td>Mailed check</td>\n",
              "      <td>1990.50</td>\n",
              "      <td>0</td>\n",
              "      <td>C</td>\n",
              "      <td>0</td>\n",
              "    </tr>\n",
              "    <tr>\n",
              "      <th>7039</th>\n",
              "      <td>Female</td>\n",
              "      <td>0</td>\n",
              "      <td>Yes</td>\n",
              "      <td>Yes</td>\n",
              "      <td>Yes</td>\n",
              "      <td>Yes</td>\n",
              "      <td>Fiber optic</td>\n",
              "      <td>No</td>\n",
              "      <td>Yes</td>\n",
              "      <td>Yes</td>\n",
              "      <td>No</td>\n",
              "      <td>Yes</td>\n",
              "      <td>Yes</td>\n",
              "      <td>One year</td>\n",
              "      <td>Yes</td>\n",
              "      <td>Credit card (automatic)</td>\n",
              "      <td>7362.90</td>\n",
              "      <td>0</td>\n",
              "      <td>A</td>\n",
              "      <td>0</td>\n",
              "    </tr>\n",
              "    <tr>\n",
              "      <th>7040</th>\n",
              "      <td>Female</td>\n",
              "      <td>0</td>\n",
              "      <td>Yes</td>\n",
              "      <td>Yes</td>\n",
              "      <td>No</td>\n",
              "      <td>No phone service</td>\n",
              "      <td>DSL</td>\n",
              "      <td>Yes</td>\n",
              "      <td>No</td>\n",
              "      <td>No</td>\n",
              "      <td>No</td>\n",
              "      <td>No</td>\n",
              "      <td>No</td>\n",
              "      <td>Month-to-month</td>\n",
              "      <td>Yes</td>\n",
              "      <td>Electronic check</td>\n",
              "      <td>346.45</td>\n",
              "      <td>0</td>\n",
              "      <td>E</td>\n",
              "      <td>0</td>\n",
              "    </tr>\n",
              "    <tr>\n",
              "      <th>7041</th>\n",
              "      <td>Male</td>\n",
              "      <td>1</td>\n",
              "      <td>Yes</td>\n",
              "      <td>No</td>\n",
              "      <td>Yes</td>\n",
              "      <td>Yes</td>\n",
              "      <td>Fiber optic</td>\n",
              "      <td>No</td>\n",
              "      <td>No</td>\n",
              "      <td>No</td>\n",
              "      <td>No</td>\n",
              "      <td>No</td>\n",
              "      <td>No</td>\n",
              "      <td>Month-to-month</td>\n",
              "      <td>Yes</td>\n",
              "      <td>Mailed check</td>\n",
              "      <td>306.60</td>\n",
              "      <td>1</td>\n",
              "      <td>D</td>\n",
              "      <td>0</td>\n",
              "    </tr>\n",
              "    <tr>\n",
              "      <th>7042</th>\n",
              "      <td>Male</td>\n",
              "      <td>0</td>\n",
              "      <td>No</td>\n",
              "      <td>No</td>\n",
              "      <td>Yes</td>\n",
              "      <td>No</td>\n",
              "      <td>Fiber optic</td>\n",
              "      <td>Yes</td>\n",
              "      <td>No</td>\n",
              "      <td>Yes</td>\n",
              "      <td>Yes</td>\n",
              "      <td>Yes</td>\n",
              "      <td>Yes</td>\n",
              "      <td>Two year</td>\n",
              "      <td>Yes</td>\n",
              "      <td>Bank transfer (automatic)</td>\n",
              "      <td>6844.50</td>\n",
              "      <td>0</td>\n",
              "      <td>A</td>\n",
              "      <td>0</td>\n",
              "    </tr>\n",
              "  </tbody>\n",
              "</table>\n",
              "<p>7043 rows × 20 columns</p>\n",
              "</div>"
            ],
            "text/plain": [
              "      gender SeniorCitizen Partner  ... Churn s_grade NewCustomer\n",
              "0     Female             0     Yes  ...     0       E           0\n",
              "1       Male             0      No  ...     0       C           0\n",
              "2       Male             0      No  ...     1       E           0\n",
              "3       Male             0      No  ...     0       C           0\n",
              "4     Female             0      No  ...     1       D           0\n",
              "...      ...           ...     ...  ...   ...     ...         ...\n",
              "7038    Male             0     Yes  ...     0       C           0\n",
              "7039  Female             0     Yes  ...     0       A           0\n",
              "7040  Female             0     Yes  ...     0       E           0\n",
              "7041    Male             1     Yes  ...     1       D           0\n",
              "7042    Male             0      No  ...     0       A           0\n",
              "\n",
              "[7043 rows x 20 columns]"
            ]
          },
          "metadata": {},
          "execution_count": 36
        }
      ]
    },
    {
      "cell_type": "code",
      "metadata": {
        "id": "YqzEC6Ig8BVi"
      },
      "source": [
        "# 데이터 분할과 인코딩을 위해 변수 유형 분류\n",
        "\n",
        "    # target\n",
        "target = 'Churn'\n",
        "\n",
        "    # feature\n",
        "features = df.columns.tolist()\n",
        "features.remove(target)\n",
        "\n",
        "    # 연속형 변수\n",
        "numeric_features = ['TotalCharges']\n",
        "\n",
        "    # 이진 변수\n",
        "binary_features = [col for col in df.columns if df[col].nunique() == 2]\n",
        "binary_features.remove(target)\n",
        "\n",
        "    # 이진 변수가 아닌 범주형 변수\n",
        "multicat_features = list(set(features).difference(numeric_features).difference(binary_features))"
      ],
      "execution_count": 37,
      "outputs": []
    },
    {
      "cell_type": "code",
      "metadata": {
        "id": "_93pI3L7_9QE"
      },
      "source": [
        "# 데이터 분할\n",
        "from sklearn.model_selection import train_test_split\n",
        "\n",
        "X_train, X_test, y_train, y_test = train_test_split(df[features], df[target], test_size=0.2, random_state=10)"
      ],
      "execution_count": 38,
      "outputs": []
    },
    {
      "cell_type": "code",
      "metadata": {
        "id": "UIxGC6dd-ypk"
      },
      "source": [
        "! pip install category_encoders\n",
        "! pip install --upgrade git+https://github.com/scikit-learn-contrib/category_encoders"
      ],
      "execution_count": null,
      "outputs": []
    },
    {
      "cell_type": "code",
      "metadata": {
        "colab": {
          "base_uri": "https://localhost:8080/"
        },
        "id": "lvNUurNN8UkZ",
        "outputId": "f3973f32-5f9c-42b9-9d07-da46c3b28ae0"
      },
      "source": [
        "# 랜덤 포레스트 모델링\n",
        "from category_encoders import OneHotEncoder\n",
        "from category_encoders import OrdinalEncoder\n",
        "from sklearn.ensemble import RandomForestClassifier\n",
        "from sklearn.pipeline import make_pipeline\n",
        "\n",
        "pipe_rf = make_pipeline(\n",
        "    OrdinalEncoder(cols=binary_features),\n",
        "    OneHotEncoder(cols=multicat_features),\n",
        "    RandomForestClassifier(n_jobs=-1, random_state=10, oob_score=True)\n",
        ")\n",
        "\n",
        "pipe_rf.fit(X_train, y_train)"
      ],
      "execution_count": 40,
      "outputs": [
        {
          "output_type": "execute_result",
          "data": {
            "text/plain": [
              "Pipeline(memory=None,\n",
              "         steps=[('ordinalencoder',\n",
              "                 OrdinalEncoder(cols=['gender', 'SeniorCitizen', 'Partner',\n",
              "                                      'Dependents', 'PhoneService',\n",
              "                                      'PaperlessBilling', 'NewCustomer'],\n",
              "                                drop_invariant=False, handle_missing='value',\n",
              "                                handle_unknown='value',\n",
              "                                mapping=[{'col': 'gender',\n",
              "                                          'data_type': dtype('O'),\n",
              "                                          'mapping': Male      1\n",
              "Female    2\n",
              "NaN      -2\n",
              "dtype: int64},\n",
              "                                         {'col': 'SeniorCitizen',\n",
              "                                          'data_ty...\n",
              "                 RandomForestClassifier(bootstrap=True, ccp_alpha=0.0,\n",
              "                                        class_weight=None, criterion='gini',\n",
              "                                        max_depth=None, max_features='auto',\n",
              "                                        max_leaf_nodes=None, max_samples=None,\n",
              "                                        min_impurity_decrease=0.0,\n",
              "                                        min_impurity_split=None,\n",
              "                                        min_samples_leaf=1, min_samples_split=2,\n",
              "                                        min_weight_fraction_leaf=0.0,\n",
              "                                        n_estimators=100, n_jobs=-1,\n",
              "                                        oob_score=True, random_state=10,\n",
              "                                        verbose=0, warm_start=False))],\n",
              "         verbose=False)"
            ]
          },
          "metadata": {},
          "execution_count": 40
        }
      ]
    },
    {
      "cell_type": "code",
      "metadata": {
        "colab": {
          "base_uri": "https://localhost:8080/",
          "height": 662
        },
        "id": "dPO5HwfzBUM7",
        "outputId": "69135dc4-f6b9-4f15-f950-e56f2489e778"
      },
      "source": [
        "# feature importance\n",
        "\n",
        "enc = pipe_rf.named_steps['onehotencoder']\n",
        "encoded_columns = enc.get_feature_names()\n",
        "\n",
        "import matplotlib.pyplot as plt\n",
        "\n",
        "importances = pd.Series(pipe_rf.steps[2][1].feature_importances_, encoded_columns)\n",
        "n = len(encoded_columns)\n",
        "plt.figure(figsize=(10,n/4))\n",
        "plt.title(f'Top features with Random Forest')\n",
        "importances.sort_values()[-n:].plot.barh();"
      ],
      "execution_count": 41,
      "outputs": [
        {
          "output_type": "display_data",
          "data": {
            "image/png": "[encoded data removed]",
            "text/plain": [
              "<Figure size 720x792 with 1 Axes>"
            ]
          },
          "metadata": {
            "needs_background": "light"
          }
        }
      ]
    },
    {
      "cell_type": "code",
      "metadata": {
        "colab": {
          "base_uri": "https://localhost:8080/"
        },
        "id": "CPpJPAdeB2he",
        "outputId": "bec32539-0aa4-4b7b-d885-044e5d8b42e6"
      },
      "source": [
        "from sklearn.model_selection import cross_val_score\n",
        "\n",
        "k = 5\n",
        "scores = cross_val_score(pipe_rf, X_train, y_train, cv=k, \n",
        "                         scoring='recall')\n",
        "\n",
        "print(f'recall for {k} folds:', scores)"
      ],
      "execution_count": 42,
      "outputs": [
        {
          "output_type": "stream",
          "text": [
            "recall for 5 folds: [0.48196721 0.46229508 0.49836066 0.44444444 0.53770492]\n"
          ],
          "name": "stdout"
        }
      ]
    },
    {
      "cell_type": "code",
      "metadata": {
        "colab": {
          "base_uri": "https://localhost:8080/"
        },
        "id": "lbi70oL3CBwq",
        "outputId": "ddd0dac5-94bf-44d1-fdfa-1345abb3b42c"
      },
      "source": [
        "from sklearn.metrics import classification_report\n",
        "y_pred_test = pipe_rf.predict(X_test)\n",
        "print(classification_report(y_test, y_pred_test))"
      ],
      "execution_count": 43,
      "outputs": [
        {
          "output_type": "stream",
          "text": [
            "              precision    recall  f1-score   support\n",
            "\n",
            "           0       0.84      0.88      0.86      1066\n",
            "           1       0.57      0.49      0.53       343\n",
            "\n",
            "    accuracy                           0.79      1409\n",
            "   macro avg       0.71      0.68      0.69      1409\n",
            "weighted avg       0.78      0.79      0.78      1409\n",
            "\n"
          ],
          "name": "stdout"
        }
      ]
    },
    {
      "cell_type": "code",
      "metadata": {
        "colab": {
          "base_uri": "https://localhost:8080/"
        },
        "id": "FLN3NYR1CXgj",
        "outputId": "9ef86c1d-7be4-4ee7-8f8c-a5ba93e6e233"
      },
      "source": [
        "sorted(pipe_rf.get_params().keys())"
      ],
      "execution_count": 44,
      "outputs": [
        {
          "output_type": "execute_result",
          "data": {
            "text/plain": [
              "['memory',\n",
              " 'onehotencoder',\n",
              " 'onehotencoder__cols',\n",
              " 'onehotencoder__drop_invariant',\n",
              " 'onehotencoder__handle_missing',\n",
              " 'onehotencoder__handle_unknown',\n",
              " 'onehotencoder__return_df',\n",
              " 'onehotencoder__use_cat_names',\n",
              " 'onehotencoder__verbose',\n",
              " 'ordinalencoder',\n",
              " 'ordinalencoder__cols',\n",
              " 'ordinalencoder__drop_invariant',\n",
              " 'ordinalencoder__handle_missing',\n",
              " 'ordinalencoder__handle_unknown',\n",
              " 'ordinalencoder__mapping',\n",
              " 'ordinalencoder__return_df',\n",
              " 'ordinalencoder__verbose',\n",
              " 'randomforestclassifier',\n",
              " 'randomforestclassifier__bootstrap',\n",
              " 'randomforestclassifier__ccp_alpha',\n",
              " 'randomforestclassifier__class_weight',\n",
              " 'randomforestclassifier__criterion',\n",
              " 'randomforestclassifier__max_depth',\n",
              " 'randomforestclassifier__max_features',\n",
              " 'randomforestclassifier__max_leaf_nodes',\n",
              " 'randomforestclassifier__max_samples',\n",
              " 'randomforestclassifier__min_impurity_decrease',\n",
              " 'randomforestclassifier__min_impurity_split',\n",
              " 'randomforestclassifier__min_samples_leaf',\n",
              " 'randomforestclassifier__min_samples_split',\n",
              " 'randomforestclassifier__min_weight_fraction_leaf',\n",
              " 'randomforestclassifier__n_estimators',\n",
              " 'randomforestclassifier__n_jobs',\n",
              " 'randomforestclassifier__oob_score',\n",
              " 'randomforestclassifier__random_state',\n",
              " 'randomforestclassifier__verbose',\n",
              " 'randomforestclassifier__warm_start',\n",
              " 'steps',\n",
              " 'verbose']"
            ]
          },
          "metadata": {},
          "execution_count": 44
        }
      ]
    },
    {
      "cell_type": "code",
      "metadata": {
        "colab": {
          "base_uri": "https://localhost:8080/"
        },
        "id": "OHVaYrG3CohQ",
        "outputId": "cc1d1e29-dfac-4f8f-c7c1-117cf79a6a0d"
      },
      "source": [
        "# 최적의 하이퍼 파라미터 탐색\n",
        "\n",
        "from scipy.stats import randint, uniform\n",
        "from sklearn.model_selection import RandomizedSearchCV\n",
        "\n",
        "dists = {\n",
        "    'randomforestclassifier__class_weight' : ['balanced', {0:7, 1:3}],\n",
        "    'randomforestclassifier__n_estimators': [10, 15, 50, 100],\n",
        "    'randomforestclassifier__max_depth': [1, 5, 10, 15],\n",
        "    'randomforestclassifier__min_samples_leaf' : [8, 12, 18],\n",
        "    'randomforestclassifier__min_samples_split' : [8, 16, 20],\n",
        "    'randomforestclassifier__max_features': uniform(0, 1) # max_features\n",
        "}\n",
        "\n",
        "clf = RandomizedSearchCV(\n",
        "    pipe_rf, \n",
        "    param_distributions=dists, \n",
        "    n_iter=50, \n",
        "    cv=3, \n",
        "    scoring='f1',  \n",
        "    verbose=1,\n",
        "    n_jobs=-1\n",
        ")\n",
        "\n",
        "clf.fit(X_train, y_train);"
      ],
      "execution_count": 45,
      "outputs": [
        {
          "output_type": "stream",
          "text": [
            "Fitting 3 folds for each of 50 candidates, totalling 150 fits\n"
          ],
          "name": "stdout"
        },
        {
          "output_type": "stream",
          "text": [
            "[Parallel(n_jobs=-1)]: Using backend LokyBackend with 2 concurrent workers.\n",
            "[Parallel(n_jobs=-1)]: Done  46 tasks      | elapsed:   24.0s\n",
            "[Parallel(n_jobs=-1)]: Done 150 out of 150 | elapsed:  1.2min finished\n"
          ],
          "name": "stderr"
        }
      ]
    },
    {
      "cell_type": "code",
      "metadata": {
        "id": "7d_71_KlDiKb"
      },
      "source": [
        "# 리모델링\n",
        "pipe_rf_2 = clf.best_estimator_"
      ],
      "execution_count": 46,
      "outputs": []
    },
    {
      "cell_type": "code",
      "metadata": {
        "colab": {
          "base_uri": "https://localhost:8080/"
        },
        "id": "hFAtO7YDDpii",
        "outputId": "351bff91-96d2-4c32-afad-d8a1dc8a9794"
      },
      "source": [
        "from sklearn.model_selection import cross_val_score\n",
        "\n",
        "k = 5\n",
        "scores = cross_val_score(pipe_rf_2, X_train, y_train, cv=k, \n",
        "                         scoring='recall')\n",
        "\n",
        "print(f'recall for {k} folds:', scores)"
      ],
      "execution_count": 47,
      "outputs": [
        {
          "output_type": "stream",
          "text": [
            "recall for 5 folds: [0.7442623  0.74754098 0.79016393 0.76143791 0.76721311]\n"
          ],
          "name": "stdout"
        }
      ]
    },
    {
      "cell_type": "code",
      "metadata": {
        "colab": {
          "base_uri": "https://localhost:8080/"
        },
        "id": "9UgO6Rc_Dpij",
        "outputId": "e96b2015-2447-4ebd-8982-18082366e576"
      },
      "source": [
        "from sklearn.metrics import classification_report\n",
        "y_pred_test2 = pipe_rf_2.predict(X_test)\n",
        "print(classification_report(y_test, y_pred_test2))"
      ],
      "execution_count": 48,
      "outputs": [
        {
          "output_type": "stream",
          "text": [
            "              precision    recall  f1-score   support\n",
            "\n",
            "           0       0.91      0.77      0.83      1066\n",
            "           1       0.51      0.76      0.61       343\n",
            "\n",
            "    accuracy                           0.76      1409\n",
            "   macro avg       0.71      0.76      0.72      1409\n",
            "weighted avg       0.81      0.76      0.78      1409\n",
            "\n"
          ],
          "name": "stdout"
        }
      ]
    }
  ]
}