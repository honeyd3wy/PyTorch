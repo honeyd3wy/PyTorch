{
  "nbformat": 4,
  "nbformat_minor": 0,
  "metadata": {
    "kernelspec": {
      "display_name": "Python 3",
      "language": "python",
      "name": "python3"
    },
    "language_info": {
      "codemirror_mode": {
        "name": "ipython",
        "version": 3
      },
      "file_extension": ".py",
      "mimetype": "text/x-python",
      "name": "python",
      "nbconvert_exporter": "python",
      "pygments_lexer": "ipython3",
      "version": "3.7.7"
    },
    "colab": {
      "name": "n223a-evaluation-metrics-for-classification.ipynb의 사본",
      "provenance": [],
      "collapsed_sections": [],
      "include_colab_link": true
    },
    "widgets": {
      "application/vnd.jupyter.widget-state+json": {
        "2659dbfac8974f839724d2bc81f51cc2": {
          "model_module": "@jupyter-widgets/controls",
          "model_name": "VBoxModel",
          "model_module_version": "1.5.0",
          "state": {
            "_view_name": "VBoxView",
            "_dom_classes": [
              "widget-interact"
            ],
            "_model_name": "VBoxModel",
            "_view_module": "@jupyter-widgets/controls",
            "_model_module_version": "1.5.0",
            "_view_count": null,
            "_view_module_version": "1.5.0",
            "box_style": "",
            "layout": "IPY_MODEL_72231a1c25e940ad8bf0893f534465d9",
            "_model_module": "@jupyter-widgets/controls",
            "children": [
              "IPY_MODEL_22fe4a2144e34c768a437b26ca25f4d9",
              "IPY_MODEL_6304328797d14182aebb02f50c4dc962"
            ]
          }
        },
        "72231a1c25e940ad8bf0893f534465d9": {
          "model_module": "@jupyter-widgets/base",
          "model_name": "LayoutModel",
          "model_module_version": "1.2.0",
          "state": {
            "_view_name": "LayoutView",
            "grid_template_rows": null,
            "right": null,
            "justify_content": null,
            "_view_module": "@jupyter-widgets/base",
            "overflow": null,
            "_model_module_version": "1.2.0",
            "_view_count": null,
            "flex_flow": null,
            "width": null,
            "min_width": null,
            "border": null,
            "align_items": null,
            "bottom": null,
            "_model_module": "@jupyter-widgets/base",
            "top": null,
            "grid_column": null,
            "overflow_y": null,
            "overflow_x": null,
            "grid_auto_flow": null,
            "grid_area": null,
            "grid_template_columns": null,
            "flex": null,
            "_model_name": "LayoutModel",
            "justify_items": null,
            "grid_row": null,
            "max_height": null,
            "align_content": null,
            "visibility": null,
            "align_self": null,
            "height": null,
            "min_height": null,
            "padding": null,
            "grid_auto_rows": null,
            "grid_gap": null,
            "max_width": null,
            "order": null,
            "_view_module_version": "1.2.0",
            "grid_template_areas": null,
            "object_position": null,
            "object_fit": null,
            "grid_auto_columns": null,
            "margin": null,
            "display": null,
            "left": null
          }
        },
        "22fe4a2144e34c768a437b26ca25f4d9": {
          "model_module": "@jupyter-widgets/controls",
          "model_name": "FloatSliderModel",
          "model_module_version": "1.5.0",
          "state": {
            "_view_name": "FloatSliderView",
            "style": "IPY_MODEL_d0efbc4938c7456791c7a7c593b0ab7a",
            "_dom_classes": [],
            "description": "threshold",
            "step": 0.01,
            "_model_name": "FloatSliderModel",
            "orientation": "horizontal",
            "max": 1,
            "_view_module": "@jupyter-widgets/controls",
            "_model_module_version": "1.5.0",
            "value": 0.33,
            "_view_count": null,
            "disabled": false,
            "_view_module_version": "1.5.0",
            "min": 0,
            "continuous_update": true,
            "readout_format": ".2f",
            "description_tooltip": null,
            "readout": true,
            "_model_module": "@jupyter-widgets/controls",
            "layout": "IPY_MODEL_6b3a2526a2af4aa89bc8acbd91efcab8"
          }
        },
        "6304328797d14182aebb02f50c4dc962": {
          "model_module": "@jupyter-widgets/output",
          "model_name": "OutputModel",
          "model_module_version": "1.0.0",
          "state": {
            "_view_name": "OutputView",
            "msg_id": "",
            "_dom_classes": [],
            "_model_name": "OutputModel",
            "outputs": [
              {
                "output_type": "display_data",
                "data": {
                  "image/png": "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\n",
                  "text/plain": [
                    "<Figure size 432x288 with 1 Axes>"
                  ]
                },
                "metadata": {
                  "needs_background": "light"
                }
              },
              {
                "output_type": "stream",
                "text": [
                  "              precision    recall  f1-score   support\n",
                  "\n",
                  "           0       0.87      0.87      0.87      6416\n",
                  "           1       0.59      0.60      0.59      2015\n",
                  "\n",
                  "    accuracy                           0.80      8431\n",
                  "   macro avg       0.73      0.73      0.73      8431\n",
                  "weighted avg       0.81      0.80      0.80      8431\n",
                  "\n"
                ],
                "name": "stdout"
              }
            ],
            "_view_module": "@jupyter-widgets/output",
            "_model_module_version": "1.0.0",
            "_view_count": null,
            "_view_module_version": "1.0.0",
            "layout": "IPY_MODEL_a8525e1fcd674663a610abe08cc12545",
            "_model_module": "@jupyter-widgets/output"
          }
        },
        "d0efbc4938c7456791c7a7c593b0ab7a": {
          "model_module": "@jupyter-widgets/controls",
          "model_name": "SliderStyleModel",
          "model_module_version": "1.5.0",
          "state": {
            "_view_name": "StyleView",
            "handle_color": null,
            "_model_name": "SliderStyleModel",
            "description_width": "",
            "_view_module": "@jupyter-widgets/base",
            "_model_module_version": "1.5.0",
            "_view_count": null,
            "_view_module_version": "1.2.0",
            "_model_module": "@jupyter-widgets/controls"
          }
        },
        "6b3a2526a2af4aa89bc8acbd91efcab8": {
          "model_module": "@jupyter-widgets/base",
          "model_name": "LayoutModel",
          "model_module_version": "1.2.0",
          "state": {
            "_view_name": "LayoutView",
            "grid_template_rows": null,
            "right": null,
            "justify_content": null,
            "_view_module": "@jupyter-widgets/base",
            "overflow": null,
            "_model_module_version": "1.2.0",
            "_view_count": null,
            "flex_flow": null,
            "width": null,
            "min_width": null,
            "border": null,
            "align_items": null,
            "bottom": null,
            "_model_module": "@jupyter-widgets/base",
            "top": null,
            "grid_column": null,
            "overflow_y": null,
            "overflow_x": null,
            "grid_auto_flow": null,
            "grid_area": null,
            "grid_template_columns": null,
            "flex": null,
            "_model_name": "LayoutModel",
            "justify_items": null,
            "grid_row": null,
            "max_height": null,
            "align_content": null,
            "visibility": null,
            "align_self": null,
            "height": null,
            "min_height": null,
            "padding": null,
            "grid_auto_rows": null,
            "grid_gap": null,
            "max_width": null,
            "order": null,
            "_view_module_version": "1.2.0",
            "grid_template_areas": null,
            "object_position": null,
            "object_fit": null,
            "grid_auto_columns": null,
            "margin": null,
            "display": null,
            "left": null
          }
        },
        "a8525e1fcd674663a610abe08cc12545": {
          "model_module": "@jupyter-widgets/base",
          "model_name": "LayoutModel",
          "model_module_version": "1.2.0",
          "state": {
            "_view_name": "LayoutView",
            "grid_template_rows": null,
            "right": null,
            "justify_content": null,
            "_view_module": "@jupyter-widgets/base",
            "overflow": null,
            "_model_module_version": "1.2.0",
            "_view_count": null,
            "flex_flow": null,
            "width": null,
            "min_width": null,
            "border": null,
            "align_items": null,
            "bottom": null,
            "_model_module": "@jupyter-widgets/base",
            "top": null,
            "grid_column": null,
            "overflow_y": null,
            "overflow_x": null,
            "grid_auto_flow": null,
            "grid_area": null,
            "grid_template_columns": null,
            "flex": null,
            "_model_name": "LayoutModel",
            "justify_items": null,
            "grid_row": null,
            "max_height": null,
            "align_content": null,
            "visibility": null,
            "align_self": null,
            "height": null,
            "min_height": null,
            "padding": null,
            "grid_auto_rows": null,
            "grid_gap": null,
            "max_width": null,
            "order": null,
            "_view_module_version": "1.2.0",
            "grid_template_areas": null,
            "object_position": null,
            "object_fit": null,
            "grid_auto_columns": null,
            "margin": null,
            "display": null,
            "left": null
          }
        }
      }
    }
  },
  "cells": [
    {
      "cell_type": "markdown",
      "metadata": {
        "id": "view-in-github",
        "colab_type": "text"
      },
      "source": [
        "<a href=\"https://colab.research.google.com/github/honeyd3wy/PyTorch/blob/master/n223-evaluation-metrics-for-classification/n223a-evaluation-metrics-for-classification.ipynb\" target=\"_parent\"><img src=\"https://colab.research.google.com/assets/colab-badge.svg\" alt=\"Open In Colab\"/></a>"
      ]
    },
    {
      "cell_type": "markdown",
      "metadata": {
        "id": "D_CzPLZgEtzr"
      },
      "source": [
        "<img align=\"right\" src=\"https://ds-cs-images.s3.ap-northeast-2.amazonaws.com/Codestates_Fulllogo_Color.png\" width=100>\n",
        "\n",
        "## *DATA SCIENCE / SECTION 2 / SPRINT 2 / NOTE 3*\n",
        "\n",
        "# 📝 Assignment\n",
        "---"
      ]
    },
    {
      "cell_type": "markdown",
      "metadata": {
        "id": "nCc3XZEyG3XV"
      },
      "source": [
        "# Evaluation Metrics for Classification\n",
        "\n",
        "### 1) Kaggle 챌린지를 이어서 진행합니다.\n",
        "- **다음 조건에서 F beta score를 구하고 과제 제출폼에 제출하세요.**\n",
        "    - TP = 4442, TN = 6165, FP = 1515, FN = 1930, 재현율에 정밀도의 2배 가중치를 부여합니다."
      ]
    },
    {
      "cell_type": "code",
      "metadata": {
        "id": "kCQl-9miE8bj"
      },
      "source": [
        "TP = 4442\n",
        "TN = 6165\n",
        "FP = 1515\n",
        "FN = 1930\n",
        "beta = 2"
      ],
      "execution_count": 1,
      "outputs": []
    },
    {
      "cell_type": "code",
      "metadata": {
        "id": "DeyyLgxXEtzv"
      },
      "source": [
        "def my_fbeta_score(precision, recall, beta=1.0):\n",
        "    return (1 + beta**2) * (precision * recall) / ((beta**2 * precision) + recall)"
      ],
      "execution_count": 2,
      "outputs": []
    },
    {
      "cell_type": "code",
      "metadata": {
        "id": "gIiPWgPyFau0",
        "colab": {
          "base_uri": "https://localhost:8080/"
        },
        "outputId": "518fcb70-8e16-4a74-b603-0c89bc14c29b"
      },
      "source": [
        "# precision: Positive 정답률\n",
        "p = TP / (TP + FP)\n",
        "\n",
        "# recall: True 정답률\n",
        "r = TP / (TP + FN)\n",
        "\n",
        "print(f'F beta score: {my_fbeta_score(p, r, beta)}')"
      ],
      "execution_count": 3,
      "outputs": [
        {
          "output_type": "stream",
          "text": [
            "F beta score: 0.7063126093178566\n"
          ],
          "name": "stdout"
        }
      ]
    },
    {
      "cell_type": "markdown",
      "metadata": {
        "id": "lgfCtpSVEtzw"
      },
      "source": [
        "### 2) 모델을 학습한 후 Confusion matrix를 그리고 해석하세요\n",
        "- 임계값을 조정한 후 confusion matrix를 그려보세요\n",
        "- **(객관식) 임계값을 증가시킬때 positive 범주에 대한 재현율의 변화 양상을 과제 제출폼에 제출하세요.**\n",
        "    1. 증가\n",
        "    2. 감소\n",
        "    3. 변화가 없다\n"
      ]
    },
    {
      "cell_type": "code",
      "metadata": {
        "id": "5FzblvvGEtzx"
      },
      "source": [
        "# 데이터 불러오기\n",
        "\n",
        "import pandas as pd\n",
        "\n",
        "test_y = pd.read_csv('https://docs.google.com/uc?export=download&id=1ymZWBAzKXk0ODgY-Ljpp6vP7laHtWqKC')\n",
        "test_X = pd.read_csv('https://docs.google.com/uc?export=download&id=18AtEWMCrN0suqvib_IY-BObh3tP0-ejK')\n",
        "raw_train_y = pd.read_csv('https://docs.google.com/uc?export=download&id=1Qb28eBda2XUpJ98WFe7KfwH0GCMH7gUa')\n",
        "raw_train_X = pd.read_csv('https://docs.google.com/uc?export=download&id=1h-hYeD1V5Tk7bmjC1ci6PxB_GmU4veiZ')"
      ],
      "execution_count": 4,
      "outputs": []
    },
    {
      "cell_type": "code",
      "metadata": {
        "id": "TWeSGft9eQOk"
      },
      "source": [
        "# 데이터 분리\n",
        "from sklearn.model_selection import train_test_split\n",
        "\n",
        "train_X, val_X = train_test_split(raw_train_X, train_size=0.80, test_size=0.20, \n",
        "                              stratify=raw_train_y, random_state=2)\n",
        "\n",
        "train_y, val_y = train_test_split(raw_train_y, train_size=0.80, test_size=0.20, \n",
        "                              stratify=raw_train_y, random_state=2)"
      ],
      "execution_count": 5,
      "outputs": []
    },
    {
      "cell_type": "code",
      "metadata": {
        "id": "drKuhsv2eS02"
      },
      "source": [
        "train_y = train_y.drop(columns='vacc_seas_f')\n",
        "val_y = val_y.drop(columns='vacc_seas_f')"
      ],
      "execution_count": 6,
      "outputs": []
    },
    {
      "cell_type": "code",
      "metadata": {
        "colab": {
          "base_uri": "https://localhost:8080/"
        },
        "id": "rUFHt84NeUab",
        "outputId": "ed5ee4a8-8cef-426b-897d-1edfa885af99"
      },
      "source": [
        "# Feature Engineering\n",
        "import numpy as np\n",
        "\n",
        "def engineer(df):\n",
        "    \n",
        "    # 예방에 대한 행동을 모두 더한 새로운 특성 생성\n",
        "    behaviorals = [col for col in df.columns if 'behavioral' in col] \n",
        "    df['preventive_action'] = df[behaviorals].sum(axis=1)\n",
        "    # 반영된 특성 제거\n",
        "    dels = [col for col in df.columns if ('behavioral' in col)]\n",
        "    df.drop(columns=dels, inplace=True)\n",
        "\n",
        "    \n",
        "    # '기타'항목의 비율이 너무 높고 null값의 비율이 높은 employment 관련 항목 제거\n",
        "    # target에 없는 season 관련 항목 제거\n",
        "    dels = [col for col in df.columns if ('health_insurance' in col or 'employment_industry' in col or 'employment_occupation' in col or 'seas' in col)]\n",
        "    df.drop(columns=dels, inplace=True)\n",
        "        \n",
        "    return df\n",
        "\n",
        "\n",
        "train_X = engineer(train_X)\n",
        "val_X = engineer(val_X)\n",
        "test_X = engineer(test_X)"
      ],
      "execution_count": 7,
      "outputs": [
        {
          "output_type": "stream",
          "text": [
            "/usr/local/lib/python3.7/dist-packages/ipykernel_launcher.py:8: SettingWithCopyWarning: \n",
            "A value is trying to be set on a copy of a slice from a DataFrame.\n",
            "Try using .loc[row_indexer,col_indexer] = value instead\n",
            "\n",
            "See the caveats in the documentation: https://pandas.pydata.org/pandas-docs/stable/user_guide/indexing.html#returning-a-view-versus-a-copy\n",
            "  \n",
            "/usr/local/lib/python3.7/dist-packages/pandas/core/frame.py:4174: SettingWithCopyWarning: \n",
            "A value is trying to be set on a copy of a slice from a DataFrame\n",
            "\n",
            "See the caveats in the documentation: https://pandas.pydata.org/pandas-docs/stable/user_guide/indexing.html#returning-a-view-versus-a-copy\n",
            "  errors=errors,\n"
          ],
          "name": "stderr"
        }
      ]
    },
    {
      "cell_type": "code",
      "metadata": {
        "id": "2JOgnYUqeZnN"
      },
      "source": [
        "# pip install category_encoders"
      ],
      "execution_count": 8,
      "outputs": []
    },
    {
      "cell_type": "code",
      "metadata": {
        "id": "hKkLtObGearn"
      },
      "source": [
        "# pip install --upgrade git+https://github.com/scikit-learn-contrib/category_encoders"
      ],
      "execution_count": 9,
      "outputs": []
    },
    {
      "cell_type": "code",
      "metadata": {
        "colab": {
          "base_uri": "https://localhost:8080/"
        },
        "id": "Gre6MMKcebWz",
        "outputId": "9f292c8f-eba5-4824-8467-92b1f64490ce"
      },
      "source": [
        "# 랜덤 포레스트 모델링\n",
        "from category_encoders import OrdinalEncoder\n",
        "from sklearn.ensemble import RandomForestClassifier\n",
        "from sklearn.impute import SimpleImputer \n",
        "from sklearn.pipeline import make_pipeline\n",
        "\n",
        "\n",
        "pipe_rf = make_pipeline(\n",
        "    OrdinalEncoder(),\n",
        "    SimpleImputer(), \n",
        "    RandomForestClassifier(n_jobs=-1, random_state=10, oob_score=True, max_depth=11, min_samples_leaf=10, min_samples_split=20, n_estimators=100)\n",
        ")\n",
        "\n",
        "pipe_rf.fit(train_X, train_y)\n",
        "print('훈련 정확도: ', pipe_rf.score(train_X, train_y))\n",
        "print('검증 정확도: ', pipe_rf.score(val_X, val_y))"
      ],
      "execution_count": 10,
      "outputs": [
        {
          "output_type": "stream",
          "text": [
            "/usr/local/lib/python3.7/dist-packages/statsmodels/tools/_testing.py:19: FutureWarning: pandas.util.testing is deprecated. Use the functions in the public API at pandas.testing instead.\n",
            "  import pandas.util.testing as tm\n",
            "/usr/local/lib/python3.7/dist-packages/sklearn/pipeline.py:354: DataConversionWarning: A column-vector y was passed when a 1d array was expected. Please change the shape of y to (n_samples,), for example using ravel().\n",
            "  self._final_estimator.fit(Xt, y, **fit_params)\n"
          ],
          "name": "stderr"
        },
        {
          "output_type": "stream",
          "text": [
            "훈련 정확도:  0.8321620259170299\n",
            "검증 정확도:  0.8153243980547977\n"
          ],
          "name": "stdout"
        }
      ]
    },
    {
      "cell_type": "code",
      "metadata": {
        "colab": {
          "base_uri": "https://localhost:8080/"
        },
        "id": "A84VSlny3nhb",
        "outputId": "47f1fb6f-41d8-4f0e-ad4d-5aebcfa3b1e2"
      },
      "source": [
        "print('테스트 데이터 정확도: ', pipe_rf.score(test_X, test_y[['vacc_h1n1_f']]))"
      ],
      "execution_count": 11,
      "outputs": [
        {
          "output_type": "stream",
          "text": [
            "테스트 데이터 정확도:  0.5025619128949615\n"
          ],
          "name": "stdout"
        }
      ]
    },
    {
      "cell_type": "code",
      "metadata": {
        "colab": {
          "base_uri": "https://localhost:8080/"
        },
        "id": "OQIV6WBUfhsf",
        "outputId": "15da6b8d-e08a-4350-8746-d106d18542d3"
      },
      "source": [
        "from sklearn.metrics import classification_report\n",
        "\n",
        "y_pred_val = pipe_rf.predict(val_X)\n",
        "print(classification_report(val_y, y_pred_val))"
      ],
      "execution_count": 12,
      "outputs": [
        {
          "output_type": "stream",
          "text": [
            "              precision    recall  f1-score   support\n",
            "\n",
            "           0       0.84      0.93      0.88      6416\n",
            "           1       0.67      0.45      0.54      2015\n",
            "\n",
            "    accuracy                           0.82      8431\n",
            "   macro avg       0.76      0.69      0.71      8431\n",
            "weighted avg       0.80      0.82      0.80      8431\n",
            "\n"
          ],
          "name": "stdout"
        }
      ]
    },
    {
      "cell_type": "code",
      "metadata": {
        "colab": {
          "base_uri": "https://localhost:8080/",
          "height": 297
        },
        "id": "AbGw_46xgLdz",
        "outputId": "8bf26ea7-ff7d-446a-d00d-562482856e8f"
      },
      "source": [
        "from sklearn.metrics import plot_confusion_matrix\n",
        "import matplotlib.pyplot as plt\n",
        "\n",
        "fig, ax = plt.subplots()\n",
        "pcm = plot_confusion_matrix(pipe_rf, val_X, val_y,\n",
        "                            cmap=plt.cm.Blues,\n",
        "                            values_format='d',\n",
        "                            ax=ax);\n",
        "plt.title(f'Confusion matrix, n = {len(val_y)}', fontsize=15)\n",
        "plt.show()"
      ],
      "execution_count": 57,
      "outputs": [
        {
          "output_type": "display_data",
          "data": {
            "image/png": "[encoded data removed]",
            "text/plain": [
              "<Figure size 432x288 with 2 Axes>"
            ]
          },
          "metadata": {
            "needs_background": "light"
          }
        }
      ]
    },
    {
      "cell_type": "code",
      "metadata": {
        "colab": {
          "base_uri": "https://localhost:8080/"
        },
        "id": "nhCFevBCiW3l",
        "outputId": "bb1abafb-b17f-4a7e-b4a4-0293e0186991"
      },
      "source": [
        "pipe_rf.predict_proba(val_X)"
      ],
      "execution_count": 15,
      "outputs": [
        {
          "output_type": "execute_result",
          "data": {
            "text/plain": [
              "array([[0.91406782, 0.08593218],\n",
              "       [0.93737463, 0.06262537],\n",
              "       [0.38983774, 0.61016226],\n",
              "       ...,\n",
              "       [0.87758648, 0.12241352],\n",
              "       [0.94103019, 0.05896981],\n",
              "       [0.86057058, 0.13942942]])"
            ]
          },
          "metadata": {},
          "execution_count": 15
        }
      ]
    },
    {
      "cell_type": "code",
      "metadata": {
        "colab": {
          "base_uri": "https://localhost:8080/"
        },
        "id": "t_EQ6zEQiaIE",
        "outputId": "4f92d687-0d3b-4bfd-9c3f-4090f02dad02"
      },
      "source": [
        "# 백신접종 확률\n",
        "y_pred_proba = pipe_rf.predict_proba(val_X)[:, 1]\n",
        "y_pred_proba"
      ],
      "execution_count": 16,
      "outputs": [
        {
          "output_type": "execute_result",
          "data": {
            "text/plain": [
              "array([0.08593218, 0.06262537, 0.61016226, ..., 0.12241352, 0.05896981,\n",
              "       0.13942942])"
            ]
          },
          "metadata": {},
          "execution_count": 16
        }
      ]
    },
    {
      "cell_type": "code",
      "metadata": {
        "colab": {
          "base_uri": "https://localhost:8080/",
          "height": 475,
          "referenced_widgets": [
            "2659dbfac8974f839724d2bc81f51cc2",
            "72231a1c25e940ad8bf0893f534465d9",
            "22fe4a2144e34c768a437b26ca25f4d9",
            "6304328797d14182aebb02f50c4dc962",
            "d0efbc4938c7456791c7a7c593b0ab7a",
            "6b3a2526a2af4aa89bc8acbd91efcab8",
            "a8525e1fcd674663a610abe08cc12545"
          ]
        },
        "id": "cCq_KOoPiM1e",
        "outputId": "65653d09-00c2-4abf-af26-0b38278d159e"
      },
      "source": [
        "from ipywidgets import interact, fixed\n",
        "import seaborn as sns\n",
        "\n",
        "def explore_threshold(y_true, y_pred_proba, threshold=0.5):\n",
        "    y_pred = y_pred_proba >= threshold\n",
        "    vc = pd.Series(y_pred).value_counts()\n",
        "    ax = sns.histplot(y_pred_proba, kde=True)\n",
        "    ax.axvline(threshold, color='red')\n",
        "    ax.set_title(f'# of target, 1={vc[1]}, 0={vc[0]}')\n",
        "    plt.show()\n",
        "    print(classification_report(y_true, y_pred))\n",
        "\n",
        "    \n",
        "interact(explore_threshold, \n",
        "    y_true=fixed(val_y), \n",
        "    y_pred_proba=fixed(y_pred_proba), \n",
        "    threshold=(0, 1, 0.01));"
      ],
      "execution_count": 17,
      "outputs": [
        {
          "output_type": "display_data",
          "data": {
            "application/vnd.jupyter.widget-view+json": {
              "model_id": "2659dbfac8974f839724d2bc81f51cc2",
              "version_minor": 0,
              "version_major": 2
            },
            "text/plain": [
              "interactive(children=(FloatSlider(value=0.5, description='threshold', max=1.0, step=0.01), Output()), _dom_cla…"
            ]
          },
          "metadata": {}
        }
      ]
    },
    {
      "cell_type": "markdown",
      "metadata": {
        "id": "Sm5sKcSTjnKl"
      },
      "source": [
        "임계값을 증가시키면 recall값은 **2. 감소한다.**"
      ]
    },
    {
      "cell_type": "markdown",
      "metadata": {
        "id": "l2G0ZSmCEtzy"
      },
      "source": [
        "### 3) 랜덤포레스트의 n_estimator를 1, 10, 100, 1000으로 바꾸어 가며 positive 범주의 predict_proba를 비교해 보세요\n",
        "- 파라미터는 다음과 같이 설정합니다.\n",
        "    - n_jobs=-1, random_state=10, max_depth=None, n_estimators = n\n",
        "- **(객관식) 확률값들의 분포(종류)의 변화를 과제 제출폼에 제출하세요**\n",
        "    1. 다양해진다\n",
        "    2. 변화가없다\n"
      ]
    },
    {
      "cell_type": "code",
      "metadata": {
        "id": "WnCRIxYIEtzz",
        "colab": {
          "base_uri": "https://localhost:8080/"
        },
        "outputId": "2b3e8b08-9e4f-4e34-c272-150f165321df"
      },
      "source": [
        "import numpy as np\n",
        "\n",
        "# 빈 배열 만들기\n",
        "proba_list = np.empty((0, len(val_X)))\n",
        "\n",
        "for n in [1,10,100,1000]:\n",
        "    pipe2 = make_pipeline(\n",
        "        OrdinalEncoder(),\n",
        "        SimpleImputer(), \n",
        "        RandomForestClassifier(n_jobs=-1, random_state=10, max_depth=None, n_estimators = n)\n",
        "        )\n",
        "    pipe2.fit(train_X, train_y)\n",
        "    y_proba = np.array([pipe2.predict_proba(val_X)[:, 1]])\n",
        "    print(y_proba)\n",
        "    proba_list = np.append(proba_list, y_proba, axis=0)"
      ],
      "execution_count": 18,
      "outputs": [
        {
          "output_type": "stream",
          "text": [
            "/usr/local/lib/python3.7/dist-packages/sklearn/pipeline.py:354: DataConversionWarning: A column-vector y was passed when a 1d array was expected. Please change the shape of y to (n_samples,), for example using ravel().\n",
            "  self._final_estimator.fit(Xt, y, **fit_params)\n"
          ],
          "name": "stderr"
        },
        {
          "output_type": "stream",
          "text": [
            "[[0. 0. 1. ... 1. 0. 0.]]\n"
          ],
          "name": "stdout"
        },
        {
          "output_type": "stream",
          "text": [
            "/usr/local/lib/python3.7/dist-packages/sklearn/pipeline.py:354: DataConversionWarning: A column-vector y was passed when a 1d array was expected. Please change the shape of y to (n_samples,), for example using ravel().\n",
            "  self._final_estimator.fit(Xt, y, **fit_params)\n"
          ],
          "name": "stderr"
        },
        {
          "output_type": "stream",
          "text": [
            "[[0.2 0.  0.7 ... 0.4 0.1 0.1]]\n"
          ],
          "name": "stdout"
        },
        {
          "output_type": "stream",
          "text": [
            "/usr/local/lib/python3.7/dist-packages/sklearn/pipeline.py:354: DataConversionWarning: A column-vector y was passed when a 1d array was expected. Please change the shape of y to (n_samples,), for example using ravel().\n",
            "  self._final_estimator.fit(Xt, y, **fit_params)\n"
          ],
          "name": "stderr"
        },
        {
          "output_type": "stream",
          "text": [
            "[[0.09 0.04 0.66 ... 0.16 0.07 0.09]]\n"
          ],
          "name": "stdout"
        },
        {
          "output_type": "stream",
          "text": [
            "/usr/local/lib/python3.7/dist-packages/sklearn/pipeline.py:354: DataConversionWarning: A column-vector y was passed when a 1d array was expected. Please change the shape of y to (n_samples,), for example using ravel().\n",
            "  self._final_estimator.fit(Xt, y, **fit_params)\n"
          ],
          "name": "stderr"
        },
        {
          "output_type": "stream",
          "text": [
            "[[0.072 0.063 0.672 ... 0.125 0.071 0.084]]\n"
          ],
          "name": "stdout"
        }
      ]
    },
    {
      "cell_type": "code",
      "metadata": {
        "colab": {
          "base_uri": "https://localhost:8080/",
          "height": 1000
        },
        "id": "CjTkfS6tqVCX",
        "outputId": "14c3faa0-0653-483c-8d78-5cbd43370ecb"
      },
      "source": [
        "ax1 = sns.displot(proba_list[0], ax=[0])\n",
        "\n",
        "ax2 = sns.displot(proba_list[1], ax=[1])\n",
        "\n",
        "ax3 = sns.displot(proba_list[2], ax=[2])\n",
        "\n",
        "ax4 = sns.displot(proba_list[3], ax=[3])"
      ],
      "execution_count": 19,
      "outputs": [
        {
          "output_type": "stream",
          "text": [
            "/usr/local/lib/python3.7/dist-packages/seaborn/distributions.py:2164: UserWarning: `displot` is a figure-level function and does not accept the ax= paramter. You may wish to try histplot.\n",
            "  warnings.warn(msg, UserWarning)\n",
            "/usr/local/lib/python3.7/dist-packages/seaborn/distributions.py:2164: UserWarning: `displot` is a figure-level function and does not accept the ax= paramter. You may wish to try histplot.\n",
            "  warnings.warn(msg, UserWarning)\n",
            "/usr/local/lib/python3.7/dist-packages/seaborn/distributions.py:2164: UserWarning: `displot` is a figure-level function and does not accept the ax= paramter. You may wish to try histplot.\n",
            "  warnings.warn(msg, UserWarning)\n",
            "/usr/local/lib/python3.7/dist-packages/seaborn/distributions.py:2164: UserWarning: `displot` is a figure-level function and does not accept the ax= paramter. You may wish to try histplot.\n",
            "  warnings.warn(msg, UserWarning)\n"
          ],
          "name": "stderr"
        },
        {
          "output_type": "display_data",
          "data": {
            "image/png": "[encoded data removed]",
            "text/plain": [
              "<Figure size 360x360 with 1 Axes>"
            ]
          },
          "metadata": {
            "needs_background": "light"
          }
        },
        {
          "output_type": "display_data",
          "data": {
            "image/png": "[encoded data removed]",
            "text/plain": [
              "<Figure size 360x360 with 1 Axes>"
            ]
          },
          "metadata": {
            "needs_background": "light"
          }
        },
        {
          "output_type": "display_data",
          "data": {
            "image/png": "[encoded data removed]",
            "text/plain": [
              "<Figure size 360x360 with 1 Axes>"
            ]
          },
          "metadata": {
            "needs_background": "light"
          }
        },
        {
          "output_type": "display_data",
          "data": {
            "image/png": "[encoded data removed]",
            "text/plain": [
              "<Figure size 360x360 with 1 Axes>"
            ]
          },
          "metadata": {
            "needs_background": "light"
          }
        }
      ]
    },
    {
      "cell_type": "markdown",
      "metadata": {
        "id": "gVb83cSAvA7g"
      },
      "source": [
        "확률값의 분포가 다양해진다."
      ]
    },
    {
      "cell_type": "markdown",
      "metadata": {
        "id": "YRw5GezuEtz0"
      },
      "source": [
        "### 4) 두개 이상의 다른 분류 모델을 학습시켜 ROC curve, AUC 점수를 비교하고 설명합니다.\n",
        "- 더 좋은 결과가 나오는 모델을 사용해서 캐글에 제출하세요\n",
        "- **캐글 Leaderboard의 본인 Score를 과제 제출폼에 제출하세요.**"
      ]
    },
    {
      "cell_type": "markdown",
      "metadata": {
        "id": "WYvvKesWqcv2"
      },
      "source": [
        "#### 4.1. 랜덤포레스트 모델 생성"
      ]
    },
    {
      "cell_type": "code",
      "metadata": {
        "colab": {
          "base_uri": "https://localhost:8080/"
        },
        "id": "_OUj-vlC2_4u",
        "outputId": "906f3f54-a1bc-49bf-fd12-28472d44f833"
      },
      "source": [
        "# Catboost Encoding을 사용해 랜덤 포레스트 모델 학습\n",
        "from category_encoders import CatBoostEncoder\n",
        "\n",
        "pipe_rf_cb = make_pipeline(\n",
        "    CatBoostEncoder(), \n",
        "    SimpleImputer(), \n",
        "    RandomForestClassifier(n_jobs=-1, random_state=10, oob_score=True)\n",
        ")\n",
        "\n",
        "pipe_rf_cb.fit(train_X, train_y)\n",
        "print('훈련 정확도: ', pipe_rf_cb.score(train_X, train_y))\n",
        "print('검증 정확도: ', pipe_rf_cb.score(val_X, val_y))\n"
      ],
      "execution_count": 30,
      "outputs": [
        {
          "output_type": "stream",
          "text": [
            "/usr/local/lib/python3.7/dist-packages/sklearn/pipeline.py:354: DataConversionWarning: A column-vector y was passed when a 1d array was expected. Please change the shape of y to (n_samples,), for example using ravel().\n",
            "  self._final_estimator.fit(Xt, y, **fit_params)\n"
          ],
          "name": "stderr"
        },
        {
          "output_type": "stream",
          "text": [
            "훈련 정확도:  0.8518221984995403\n",
            "검증 정확도:  0.8099869529118728\n"
          ],
          "name": "stdout"
        }
      ]
    },
    {
      "cell_type": "code",
      "metadata": {
        "colab": {
          "base_uri": "https://localhost:8080/"
        },
        "id": "h_rgZHB-6Nq_",
        "outputId": "712fb63f-3b57-4060-aa34-6455aa5da6e1"
      },
      "source": [
        "# 최적의 하이퍼 파라미터 탐색\n",
        "#from sklearn.model_selection import GridSearchCV\n",
        "\n",
        "#params = { 'randomforestclassifier__n_estimators' : [10, 100, 1000],\n",
        "#           'randomforestclassifier__max_depth' : [6, 8, 10, 12],\n",
        "#           'randomforestclassifier__min_samples_leaf' : [8, 12, 18],\n",
        "#           'randomforestclassifier__min_samples_split' : [8, 16, 20]\n",
        "#            }\n",
        "\n",
        "# RandomForestClassifier 객체 생성 후 GridSearchCV 수행\n",
        "#grid_cv = GridSearchCV(pipe_rf_cb, param_grid = params, cv = 3, n_jobs = -1)\n",
        "#grid_cv.fit(train_X, train_y)\n",
        "\n",
        "#print('최적 하이퍼 파라미터: ', grid_cv.best_params_)\n",
        "#print('최고 예측 정확도: {:.4f}'.format(grid_cv.best_score_))"
      ],
      "execution_count": 31,
      "outputs": [
        {
          "output_type": "stream",
          "text": [
            "/usr/local/lib/python3.7/dist-packages/category_encoders/utils.py:21: FutureWarning: is_categorical is deprecated and will be removed in a future version.  Use is_categorical_dtype instead\n",
            "  elif pd.api.types.is_categorical(cols):\n",
            "/usr/local/lib/python3.7/dist-packages/sklearn/pipeline.py:354: DataConversionWarning: A column-vector y was passed when a 1d array was expected. Please change the shape of y to (n_samples,), for example using ravel().\n",
            "  self._final_estimator.fit(Xt, y, **fit_params)\n"
          ],
          "name": "stderr"
        },
        {
          "output_type": "stream",
          "text": [
            "최적 하이퍼 파라미터:  {'randomforestclassifier__max_depth': 12, 'randomforestclassifier__min_samples_leaf': 8, 'randomforestclassifier__min_samples_split': 20, 'randomforestclassifier__n_estimators': 1000}\n",
            "최고 예측 정확도: 0.8159\n"
          ],
          "name": "stdout"
        }
      ]
    },
    {
      "cell_type": "markdown",
      "metadata": {
        "id": "StgfgR_IHfjF"
      },
      "source": [
        "```\n",
        "최적 하이퍼 파라미터:  {'randomforestclassifier__max_depth': 12, \n",
        "'randomforestclassifier__min_samples_leaf': 8, \n",
        "'randomforestclassifier__min_samples_split': 20, \n",
        "'randomforestclassifier__n_estimators': 1000}\n",
        "최고 예측 정확도: 0.8159\n",
        "```"
      ]
    },
    {
      "cell_type": "code",
      "metadata": {
        "colab": {
          "base_uri": "https://localhost:8080/"
        },
        "id": "hOCZCHHMHqLY",
        "outputId": "03afce36-c3b5-48fc-b0a5-014a2447519b"
      },
      "source": [
        "pipe_rf_cb = make_pipeline(\n",
        "    CatBoostEncoder(), \n",
        "    SimpleImputer(), \n",
        "    RandomForestClassifier(n_jobs=-1, random_state=10, max_depth=12, min_samples_leaf=8, min_samples_split=20, n_estimators=500, oob_score=True)\n",
        ")\n",
        "\n",
        "pipe_rf_cb.fit(train_X, train_y)\n",
        "print('훈련 정확도: ', pipe_rf_cb.score(train_X, train_y))\n",
        "print('검증 정확도: ', pipe_rf_cb.score(val_X, val_y))"
      ],
      "execution_count": 33,
      "outputs": [
        {
          "output_type": "stream",
          "text": [
            "/usr/local/lib/python3.7/dist-packages/sklearn/pipeline.py:354: DataConversionWarning: A column-vector y was passed when a 1d array was expected. Please change the shape of y to (n_samples,), for example using ravel().\n",
            "  self._final_estimator.fit(Xt, y, **fit_params)\n"
          ],
          "name": "stderr"
        },
        {
          "output_type": "stream",
          "text": [
            "훈련 정확도:  0.8262906621593571\n",
            "검증 정확도:  0.8156802277309928\n"
          ],
          "name": "stdout"
        }
      ]
    },
    {
      "cell_type": "code",
      "metadata": {
        "colab": {
          "base_uri": "https://localhost:8080/"
        },
        "id": "hJMoLnPxIUqg",
        "outputId": "23c8b33e-b6cb-4792-8b65-cfff7d3c36ff"
      },
      "source": [
        "# 백신접종 확률\n",
        "y_pred_proba_rf = pipe_rf_cb.predict_proba(val_X)[:, 1]\n",
        "y_pred_proba_rf"
      ],
      "execution_count": 42,
      "outputs": [
        {
          "output_type": "execute_result",
          "data": {
            "text/plain": [
              "array([0.11164486, 0.06008521, 0.6267491 , ..., 0.14117228, 0.06575108,\n",
              "       0.17520161])"
            ]
          },
          "metadata": {},
          "execution_count": 42
        }
      ]
    },
    {
      "cell_type": "code",
      "metadata": {
        "id": "thyFoRHD1D5T"
      },
      "source": [
        "# 랜덤 포레스트\n",
        "## ROC curve\n",
        "\n",
        "from sklearn.metrics import roc_curve\n",
        "\n",
        "# roc_curve(타겟값, prob of 1)\n",
        "fpr_rf, tpr_rf, thresholds_rf = roc_curve(val_y, y_pred_proba_rf)\n",
        "\n",
        "roc = pd.DataFrame({\n",
        "    'FPR(Fall-out)': fpr_rf, \n",
        "    'TPRate(Recall)': tpr_rf, \n",
        "    'Threshold': thresholds_rf\n",
        "})"
      ],
      "execution_count": 44,
      "outputs": []
    },
    {
      "cell_type": "code",
      "metadata": {
        "colab": {
          "base_uri": "https://localhost:8080/",
          "height": 295
        },
        "id": "sO7Do16o1moY",
        "outputId": "a59af02a-5e1c-4788-bbc9-f3d3242b5526"
      },
      "source": [
        "plt.scatter(fpr_rf, tpr_rf)\n",
        "plt.title('Random Forest ROC curve')\n",
        "plt.xlabel('FPR(Fall-out)')\n",
        "plt.ylabel('TPR(Recall)');"
      ],
      "execution_count": 45,
      "outputs": [
        {
          "output_type": "display_data",
          "data": {
            "image/png": "[encoded data removed]",
            "text/plain": [
              "<Figure size 432x288 with 1 Axes>"
            ]
          },
          "metadata": {
            "needs_background": "light"
          }
        }
      ]
    },
    {
      "cell_type": "code",
      "metadata": {
        "colab": {
          "base_uri": "https://localhost:8080/",
          "height": 265
        },
        "id": "_fvq7E8TPRjT",
        "outputId": "8543c541-86c3-4788-87e7-412745cc3f89"
      },
      "source": [
        "plt.plot(tpr_rf-fpr_rf);"
      ],
      "execution_count": 62,
      "outputs": [
        {
          "output_type": "display_data",
          "data": {
            "image/png": "[encoded data removed]",
            "text/plain": [
              "<Figure size 432x288 with 1 Axes>"
            ]
          },
          "metadata": {
            "needs_background": "light"
          }
        }
      ]
    },
    {
      "cell_type": "code",
      "metadata": {
        "colab": {
          "base_uri": "https://localhost:8080/"
        },
        "id": "1tky8y0R12wQ",
        "outputId": "40923414-fbdb-4abb-89f3-f12f4f7805f4"
      },
      "source": [
        "## AUC 점수\n",
        "from sklearn.metrics import roc_auc_score\n",
        "auc_score_rf = roc_auc_score(val_y, y_pred_proba_rf)\n",
        "auc_score_rf"
      ],
      "execution_count": 46,
      "outputs": [
        {
          "output_type": "execute_result",
          "data": {
            "text/plain": [
              "0.8143430196221604"
            ]
          },
          "metadata": {},
          "execution_count": 46
        }
      ]
    },
    {
      "cell_type": "code",
      "metadata": {
        "colab": {
          "base_uri": "https://localhost:8080/"
        },
        "id": "KHAZefZhg0jy",
        "outputId": "30761474-2f50-4392-a7bf-cd401176455c"
      },
      "source": [
        "# threshold 최대값의 인덱스, np.argmax()\n",
        "optimal_idx_rf = np.argmax(tpr_rf - fpr_rf)\n",
        "optimal_threshold_rf = thresholds_rf[optimal_idx_rf]\n",
        "\n",
        "print('idx:', optimal_idx_rf, ', threshold:', optimal_threshold_rf)"
      ],
      "execution_count": 67,
      "outputs": [
        {
          "output_type": "stream",
          "text": [
            "idx: 1164 , threshold: 0.2593584381377481\n"
          ],
          "name": "stdout"
        }
      ]
    },
    {
      "cell_type": "code",
      "metadata": {
        "colab": {
          "base_uri": "https://localhost:8080/"
        },
        "id": "sXw-YfJ5iKwk",
        "outputId": "985754f1-4461-4800-be7e-0aeaacb0ea84"
      },
      "source": [
        "y_pred_proba_rf"
      ],
      "execution_count": 69,
      "outputs": [
        {
          "output_type": "execute_result",
          "data": {
            "text/plain": [
              "array([0.11164486, 0.06008521, 0.6267491 , ..., 0.14117228, 0.06575108,\n",
              "       0.17520161])"
            ]
          },
          "metadata": {},
          "execution_count": 69
        }
      ]
    },
    {
      "cell_type": "code",
      "metadata": {
        "colab": {
          "base_uri": "https://localhost:8080/"
        },
        "id": "Q0mMf6Duh4kU",
        "outputId": "d1cc9ecc-3a87-441c-8c96-9a053885b929"
      },
      "source": [
        "y_pred_opt_rf = y_pred_proba_rf >= optimal_threshold_rf\n",
        "print(classification_report(val_y, y_pred_opt_rf))"
      ],
      "execution_count": 75,
      "outputs": [
        {
          "output_type": "stream",
          "text": [
            "              precision    recall  f1-score   support\n",
            "\n",
            "           0       0.89      0.80      0.84      6416\n",
            "           1       0.52      0.69      0.59      2015\n",
            "\n",
            "    accuracy                           0.77      8431\n",
            "   macro avg       0.70      0.74      0.72      8431\n",
            "weighted avg       0.80      0.77      0.78      8431\n",
            "\n"
          ],
          "name": "stdout"
        }
      ]
    },
    {
      "cell_type": "markdown",
      "metadata": {
        "id": "x3YRKt4Nqhy0"
      },
      "source": [
        "#### 4.2. 로지스틱 회귀 모델 생성"
      ]
    },
    {
      "cell_type": "code",
      "metadata": {
        "colab": {
          "base_uri": "https://localhost:8080/"
        },
        "id": "OSv2vPryzz2p",
        "outputId": "001c5865-ec29-42f9-9be4-0528358cbef7"
      },
      "source": [
        "# 로지스틱 회귀 모델 학습\n",
        "from sklearn.linear_model import LogisticRegression\n",
        "from sklearn.preprocessing import StandardScaler\n",
        "from category_encoders import OneHotEncoder\n",
        "\n",
        "pipe_logistic = make_pipeline(\n",
        "    OneHotEncoder(),\n",
        "    SimpleImputer(), \n",
        "    StandardScaler(),\n",
        "    LogisticRegression(max_iter=1000)\n",
        ")\n",
        "\n",
        "pipe_logistic.fit(train_X, train_y)\n",
        "\n",
        "\n",
        "print('훈련 정확도: ', pipe_logistic.score(train_X, train_y))\n",
        "print('검증 정확도: ', pipe_logistic.score(val_X, val_y))"
      ],
      "execution_count": 34,
      "outputs": [
        {
          "output_type": "stream",
          "text": [
            "/usr/local/lib/python3.7/dist-packages/category_encoders/utils.py:21: FutureWarning: is_categorical is deprecated and will be removed in a future version.  Use is_categorical_dtype instead\n",
            "  elif pd.api.types.is_categorical(cols):\n",
            "/usr/local/lib/python3.7/dist-packages/sklearn/utils/validation.py:760: DataConversionWarning: A column-vector y was passed when a 1d array was expected. Please change the shape of y to (n_samples, ), for example using ravel().\n",
            "  y = column_or_1d(y, warn=True)\n"
          ],
          "name": "stderr"
        },
        {
          "output_type": "stream",
          "text": [
            "훈련 정확도:  0.8133024938469294\n",
            "검증 정확도:  0.8118847111849128\n"
          ],
          "name": "stdout"
        }
      ]
    },
    {
      "cell_type": "code",
      "metadata": {
        "colab": {
          "base_uri": "https://localhost:8080/"
        },
        "id": "9kd8YH7i2UCX",
        "outputId": "f90600bb-017b-4163-c932-9b8a84d67859"
      },
      "source": [
        "# 백신접종 확률\n",
        "y_pred_proba_lg = pipe_logistic.predict_proba(val_X)[:, 1]\n",
        "y_pred_proba_lg"
      ],
      "execution_count": 43,
      "outputs": [
        {
          "output_type": "execute_result",
          "data": {
            "text/plain": [
              "array([0.09331117, 0.04163762, 0.61292179, ..., 0.15100839, 0.05458864,\n",
              "       0.06496943])"
            ]
          },
          "metadata": {},
          "execution_count": 43
        }
      ]
    },
    {
      "cell_type": "code",
      "metadata": {
        "id": "roV9vOTU1qkS"
      },
      "source": [
        "# 로지스틱 회귀\n",
        "## ROC curve\n",
        "\n",
        "from sklearn.metrics import roc_curve\n",
        "\n",
        "# roc_curve(타겟값, prob of 1)\n",
        "fpr_lg, tpr_lg, thresholds_lg = roc_curve(val_y, y_pred_proba_lg)\n",
        "\n",
        "roc = pd.DataFrame({\n",
        "    'FPR(Fall-out)': fpr_lg, \n",
        "    'TPRate(Recall)': tpr_lg, \n",
        "    'Threshold': thresholds_lg\n",
        "})"
      ],
      "execution_count": 47,
      "outputs": []
    },
    {
      "cell_type": "code",
      "metadata": {
        "colab": {
          "base_uri": "https://localhost:8080/",
          "height": 295
        },
        "id": "DqBDIFn22gda",
        "outputId": "e869a3d9-66b4-4c77-c15d-73ea9bf3f7dd"
      },
      "source": [
        "plt.scatter(fpr_lg, tpr_lg)\n",
        "plt.title('Logistic Regression ROC curve')\n",
        "plt.xlabel('FPR(Fall-out)')\n",
        "plt.ylabel('TPR(Recall)');"
      ],
      "execution_count": 48,
      "outputs": [
        {
          "output_type": "display_data",
          "data": {
            "image/png": "[encoded data removed]",
            "text/plain": [
              "<Figure size 432x288 with 1 Axes>"
            ]
          },
          "metadata": {
            "needs_background": "light"
          }
        }
      ]
    },
    {
      "cell_type": "code",
      "metadata": {
        "colab": {
          "base_uri": "https://localhost:8080/",
          "height": 269
        },
        "id": "UiLg_KN4PZl7",
        "outputId": "6b6d275d-5968-4472-fac8-3301629e33b9"
      },
      "source": [
        "plt.plot(tpr_lg-fpr_lg);"
      ],
      "execution_count": 63,
      "outputs": [
        {
          "output_type": "display_data",
          "data": {
            "image/png": "[encoded data removed]",
            "text/plain": [
              "<Figure size 432x288 with 1 Axes>"
            ]
          },
          "metadata": {
            "needs_background": "light"
          }
        }
      ]
    },
    {
      "cell_type": "code",
      "metadata": {
        "colab": {
          "base_uri": "https://localhost:8080/"
        },
        "id": "PyjIXIBu2rDf",
        "outputId": "51059236-f1f8-4843-aa92-12fff5dab951"
      },
      "source": [
        "## AUC 점수\n",
        "from sklearn.metrics import roc_auc_score\n",
        "auc_score_lg = roc_auc_score(val_y, y_pred_proba_lg)\n",
        "auc_score_lg"
      ],
      "execution_count": 49,
      "outputs": [
        {
          "output_type": "execute_result",
          "data": {
            "text/plain": [
              "0.8062037833456062"
            ]
          },
          "metadata": {},
          "execution_count": 49
        }
      ]
    },
    {
      "cell_type": "markdown",
      "metadata": {
        "id": "VcXdVi7NKWPF"
      },
      "source": [
        "#### 4.3. 성능 평가 및 비교\n",
        "\n",
        "1. 랜덤 포레스트 모델\n",
        "2. 로지스틱 회귀 모델\n",
        "\n",
        "두 가지의 모델을 만들었는데, ROC curve의 면적을 뜻하는 AUC점수가 1번 모델은 약 0.8143, 2번 모델은 약 0.8062로 1번이 더 높았다.\n",
        "\n",
        "AUC값은 1이 최대값으로, 1에 가까울수록 모델의 성능이 더 좋다고 평가할 수 있다. 풀어서 설명하면, 커브가 (0,1)에 가까워질수록 커브의 경사가 급해지는데, 이는 P와 N을 판단하는 **임계점이 움직임에 따라 오답(FP)의 비율보다 정답(TP)의 비율이 빠르게 증가한다(기울기가 가파르다)**는 의미로, 모델의 성능이 좋다고 볼 수 있을 것이다.\n",
        "\n",
        "따라서 curve의 경사가 더 급한 =  curve 아래 면적이 더 넓은 랜덤 포레스트 모델의 성능이 더 좋다고 평가한다."
      ]
    },
    {
      "cell_type": "code",
      "metadata": {
        "colab": {
          "base_uri": "https://localhost:8080/"
        },
        "id": "4-FusaPhM1aB",
        "outputId": "25d0e8fd-7fcf-4821-9065-64097dc9b006"
      },
      "source": [
        "print('랜덤 포레스트 테스트 데이터 정확도: ', pipe_rf_cb.score(test_X, test_y[['vacc_h1n1_f']]))\n",
        "print('로지스틱 회귀 테스트 데이터 정확도: ', pipe_logistic.score(test_X, test_y[['vacc_h1n1_f']]))"
      ],
      "execution_count": 60,
      "outputs": [
        {
          "output_type": "stream",
          "text": [
            "랜덤 포레스트 테스트 데이터 정확도:  0.5032735553657842\n",
            "로지스틱 회귀 테스트 데이터 정확도:  0.5020993452889269\n"
          ],
          "name": "stdout"
        }
      ]
    },
    {
      "cell_type": "markdown",
      "metadata": {
        "id": "L4T5DvpMqsON"
      },
      "source": [
        "#### 4.4. 캐글 제출 파일 생성"
      ]
    },
    {
      "cell_type": "code",
      "metadata": {
        "id": "BcxJkXZ6NEtU"
      },
      "source": [
        "# 캐글 제출용 파일 만들기\n",
        "y_pred_test = pipe_rf_cb.predict(test_X)\n",
        "submission = test_y.copy()\n",
        "submission['vacc_h1n1_f'] = y_pred_test\n",
        "submission.to_csv('ai-05-이주연-submission-3.csv', index=False)"
      ],
      "execution_count": 61,
      "outputs": []
    },
    {
      "cell_type": "markdown",
      "metadata": {
        "id": "eb7pKO8zEtz3"
      },
      "source": [
        "## 🔥 도전과제"
      ]
    },
    {
      "cell_type": "markdown",
      "metadata": {
        "id": "k9-FDR-aEtz4"
      },
      "source": [
        "### 5) 각 평가지표에 대해 결과를 최대한 분석하고 무엇이 부족한지, 어떤 방향으로 성능을 높여야 하는지 논하세요."
      ]
    },
    {
      "cell_type": "markdown",
      "metadata": {
        "id": "yLtAgp1MqyTN"
      },
      "source": [
        "#### 5.1. 랜덤 포레스트 모델의 Confusion matrix\n",
        "\n",
        "\n",
        "\n"
      ]
    },
    {
      "cell_type": "code",
      "metadata": {
        "colab": {
          "base_uri": "https://localhost:8080/",
          "height": 297
        },
        "id": "bQbbXoEFI1F6",
        "outputId": "6678ffee-7bc2-4094-c081-685959ad1c24"
      },
      "source": [
        "from sklearn.metrics import plot_confusion_matrix\n",
        "import matplotlib.pyplot as plt\n",
        "\n",
        "fig, ax = plt.subplots()\n",
        "pcm = plot_confusion_matrix(pipe_rf_cb, val_X, val_y,\n",
        "                            cmap=plt.cm.Blues,\n",
        "                            values_format='d',\n",
        "                            ax=ax);\n",
        "plt.title(f'Random Forest model Confusion matrix, n = {len(val_y)}', fontsize=15)\n",
        "plt.show()"
      ],
      "execution_count": 58,
      "outputs": [
        {
          "output_type": "display_data",
          "data": {
            "image/png": "[encoded data removed]",
            "text/plain": [
              "<Figure size 432x288 with 2 Axes>"
            ]
          },
          "metadata": {
            "needs_background": "light"
          }
        }
      ]
    },
    {
      "cell_type": "code",
      "metadata": {
        "colab": {
          "base_uri": "https://localhost:8080/"
        },
        "id": "QKJ8mI8LeLFf",
        "outputId": "5d760a59-e1fa-495d-d2a3-ac74a4ab1636"
      },
      "source": [
        "y_pred_fr = pipe_rf_cb.predict(val_X)\n",
        "print(classification_report(val_y, y_pred_fr))"
      ],
      "execution_count": 76,
      "outputs": [
        {
          "output_type": "stream",
          "text": [
            "              precision    recall  f1-score   support\n",
            "\n",
            "           0       0.85      0.93      0.88      6416\n",
            "           1       0.66      0.46      0.55      2015\n",
            "\n",
            "    accuracy                           0.82      8431\n",
            "   macro avg       0.75      0.70      0.72      8431\n",
            "weighted avg       0.80      0.82      0.80      8431\n",
            "\n"
          ],
          "name": "stdout"
        }
      ]
    },
    {
      "cell_type": "markdown",
      "metadata": {
        "id": "T-DXC8lZoU1g"
      },
      "source": [
        "위 2번에서 threshold를 0.5에서 약 0.26으로 조정해준 report는 다음과 같다.\n",
        "\n",
        "![image.png](data:image/png;base64,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)\n",
        "\n"
      ]
    },
    {
      "cell_type": "markdown",
      "metadata": {
        "id": "u_Drxq_Pq7K0"
      },
      "source": [
        "#### 5.2. 로지스틱 회귀 모델의 Confusion matrix\n",
        "\n",
        "\n",
        "\n"
      ]
    },
    {
      "cell_type": "code",
      "metadata": {
        "colab": {
          "base_uri": "https://localhost:8080/",
          "height": 297
        },
        "id": "xY0-bjDWI6zf",
        "outputId": "4bffb9d3-3b4b-4f50-c27d-cddf9b55872d"
      },
      "source": [
        "from sklearn.metrics import plot_confusion_matrix\n",
        "import matplotlib.pyplot as plt\n",
        "\n",
        "fig, ax = plt.subplots()\n",
        "pcm = plot_confusion_matrix(pipe_logistic, val_X, val_y,\n",
        "                            cmap=plt.cm.Blues,\n",
        "                            values_format='d',\n",
        "                            ax=ax);\n",
        "plt.title(f'Logistic Regression model Confusion matrix, n = {len(val_y)}', fontsize=15)\n",
        "plt.show()"
      ],
      "execution_count": 59,
      "outputs": [
        {
          "output_type": "display_data",
          "data": {
            "image/png": "[encoded data removed]",
            "text/plain": [
              "<Figure size 432x288 with 2 Axes>"
            ]
          },
          "metadata": {
            "needs_background": "light"
          }
        }
      ]
    },
    {
      "cell_type": "code",
      "metadata": {
        "colab": {
          "base_uri": "https://localhost:8080/"
        },
        "id": "pE6MdS8Se8yo",
        "outputId": "d1b39e43-a72a-40e6-e8c7-2bbd3937538e"
      },
      "source": [
        "y_pred_lg = pipe_logistic.predict(val_X)\n",
        "print(classification_report(val_y, y_pred_lg))"
      ],
      "execution_count": 66,
      "outputs": [
        {
          "output_type": "stream",
          "text": [
            "              precision    recall  f1-score   support\n",
            "\n",
            "           0       0.84      0.92      0.88      6416\n",
            "           1       0.65      0.46      0.54      2015\n",
            "\n",
            "    accuracy                           0.81      8431\n",
            "   macro avg       0.75      0.69      0.71      8431\n",
            "weighted avg       0.80      0.81      0.80      8431\n",
            "\n"
          ],
          "name": "stdout"
        }
      ]
    },
    {
      "cell_type": "markdown",
      "metadata": {
        "id": "aS_b2Y2sOjc9"
      },
      "source": [
        "#### 5.3. 결론\n",
        "이 모델의 목적은 사람들이 그들의 배경, 의견, 건강 행동에 대해 공유한 정보를 사용하여 **H1N1 백신을 맞았는지 예측하는 것**이다. \n",
        "\n",
        "백신을 접종 여부를 '왜' 예측해야 하는지 생각해보자.\n",
        "> **백신 접종자를 집단 면역 목표치만큼 늘리는 것이 최종 목적**일 것이 때문이다.\n",
        "\n",
        "이러한 경우 미접종자를 선별하기 위해 '백신을 맞지 않은 사람들을 맞지 않았다고 예측(TN)'하는 것이 중요하며, 이를 위해서는 '백신을 맞은 사람들을 맞지 않았다고 예측하는 오류(FN)'를 감안해야 하고,\n",
        "\n",
        "'백신을 맞지 않았는데 맞았다고 예측하는 오류(FP)'는 치명적이므로 최소화 해야 할 것이다. \n",
        "\n",
        "> 따라서\n",
        "1. 위의 모델들 중 랜덤 포레스트(threshold=0.5)의 Precision 값이 0.66으로 가장 높으므로 우리의 목적에 가장 부합하다고 할 수 있으며,\n",
        "2. ***Precision을 최대화 하는 방향으로 성능을 높여야 하므로, 임계값을 더 크게 조정해야 한다.***"
      ]
    }
  ]
}